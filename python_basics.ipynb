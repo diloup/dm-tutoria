{
 "cells": [
  {
   "cell_type": "markdown",
   "metadata": {
    "slideshow": {
     "slide_type": "slide"
    }
   },
   "source": [
    "# Data Management (Spring/Summer 2018) at OSIPP, Osaka U\n",
    "By Shuhei Kitamura\n",
    "\n",
    "## Python basics"
   ]
  },
  {
   "cell_type": "markdown",
   "metadata": {
    "slideshow": {
     "slide_type": "notes"
    }
   },
   "source": [
    "### Outline\n",
    "1. Arithmetic operation\n",
    "2. Run Python scripts\n",
    "3. Variables and Objects\n",
    "    - Variable assignment\n",
    "    - Types\n",
    "    - Concatenation and other operations\n",
    "    - Lists\n",
    "    - Dictionaries\n",
    "    - Tuples        \n",
    "5. Functions\n",
    "6. Methods\n",
    "7. Modules and Packages\n",
    "8. If Statements\n",
    "9. Loops\n",
    "10. NumPy\n",
    "11. pandas\n",
    "    - Get elements\n",
    "    - Change contents\n",
    "    - Computation\n",
    "    - Treat missing values\n",
    "    - Merge"
   ]
  },
  {
   "cell_type": "markdown",
   "metadata": {
    "slideshow": {
     "slide_type": "slide"
    }
   },
   "source": [
    "## 1. Arithmetic operation\n",
    "- Main operators are `+`, `-`, `*`, and `/`.\n",
    "- Write `1 + 2` and execute (Shift + Enter or push \"run cell\" button). Next, do the same for `print(1 + 2)`."
   ]
  },
  {
   "cell_type": "code",
   "execution_count": 3,
   "metadata": {
    "slideshow": {
     "slide_type": "-"
    }
   },
   "outputs": [
    {
     "name": "stdout",
     "output_type": "stream",
     "text": [
      "8\n"
     ]
    }
   ],
   "source": [
    "print(3 + 5)"
   ]
  },
  {
   "cell_type": "markdown",
   "metadata": {
    "slideshow": {
     "slide_type": "subslide"
    }
   },
   "source": [
    "- If you want to write a comment, use `#`.\n",
    "- Write `# print(1 + 2)` and execute."
   ]
  },
  {
   "cell_type": "code",
   "execution_count": 4,
   "metadata": {},
   "outputs": [],
   "source": [
    "#print(1 + 2)"
   ]
  },
  {
   "cell_type": "markdown",
   "metadata": {
    "slideshow": {
     "slide_type": "subslide"
    }
   },
   "source": [
    "- Compute 1 + 2 / 3 - 4 * 5 and print."
   ]
  },
  {
   "cell_type": "code",
   "execution_count": 5,
   "metadata": {
    "slideshow": {
     "slide_type": "-"
    }
   },
   "outputs": [
    {
     "name": "stdout",
     "output_type": "stream",
     "text": [
      "-18.333333333333332\n"
     ]
    }
   ],
   "source": [
    "print(1 + 2/3-4*5)"
   ]
  },
  {
   "cell_type": "markdown",
   "metadata": {
    "slideshow": {
     "slide_type": "subslide"
    }
   },
   "source": [
    "- `**` for power. Power is right associative. \n",
    "- Calculate $-2^3$, $3^{3^3}$, and $\\frac{3}{3^3}$."
   ]
  },
  {
   "cell_type": "code",
   "execution_count": 9,
   "metadata": {
    "slideshow": {
     "slide_type": "-"
    }
   },
   "outputs": [
    {
     "name": "stdout",
     "output_type": "stream",
     "text": [
      "3.0\n"
     ]
    }
   ],
   "source": [
    "print(3*3/3)"
   ]
  },
  {
   "cell_type": "markdown",
   "metadata": {
    "slideshow": {
     "slide_type": "subslide"
    }
   },
   "source": [
    "- `%` for modulus and `//` for floor division.\n",
    "- Calculate `7 % 2`. How about `7 // 2`?"
   ]
  },
  {
   "cell_type": "code",
   "execution_count": 13,
   "metadata": {
    "slideshow": {
     "slide_type": "-"
    }
   },
   "outputs": [
    {
     "name": "stdout",
     "output_type": "stream",
     "text": [
      "3\n"
     ]
    }
   ],
   "source": [
    "print(7 // 2)"
   ]
  },
  {
   "cell_type": "markdown",
   "metadata": {
    "slideshow": {
     "slide_type": "slide"
    }
   },
   "source": [
    "## 2. Run Python scripts\n",
    "- Launch a text editor (e.g. Visual Studio Code). Create a new file.\n",
    "<!--\n",
    "![Alt text](https://github.com/urbsu/dm_tutorial/blob/master/sources/python7.PNG?raw=true)\n",
    "-->\n",
    "![Alt text](./sources/python7.png)\n",
    "- Type `print(1 + 2)` in line 1, and `3 + 4` in line 2.\n",
    "- Save the file in your repository. Type the file name (e.g., \"mypython\"), and set Python for the file type. The file extension becomes \".py\"."
   ]
  },
  {
   "cell_type": "markdown",
   "metadata": {
    "slideshow": {
     "slide_type": "subslide"
    }
   },
   "source": [
    "- Check the current directory using `getcwd()` in the `os` package.\n",
    "    - We will talk about packages later.\n",
    "- If it is not your local repository, set the current directory by typing: `cd \"C:\\path_to_your_local_repository\"` where you need to specify the path to your local repository."
   ]
  },
  {
   "cell_type": "code",
   "execution_count": 1,
   "metadata": {
    "slideshow": {
     "slide_type": "-"
    }
   },
   "outputs": [
    {
     "data": {
      "text/plain": [
       "'C:\\\\Users\\\\User\\\\Documents\\\\dm-tutoria'"
      ]
     },
     "execution_count": 1,
     "metadata": {},
     "output_type": "execute_result"
    }
   ],
   "source": [
    "import os\n",
    "os.getcwd()"
   ]
  },
  {
   "cell_type": "markdown",
   "metadata": {
    "slideshow": {
     "slide_type": "subslide"
    }
   },
   "source": [
    "- Run a Python script by typing: `run mypython.py`. \n",
    "- Open \"mypython.py\". Change line 2 to `print(3 + 4)`, save, and close. \n",
    "- Execute `run mypython.py` again. Do you see the difference?"
   ]
  },
  {
   "cell_type": "code",
   "execution_count": 17,
   "metadata": {
    "slideshow": {
     "slide_type": "-"
    }
   },
   "outputs": [
    {
     "name": "stdout",
     "output_type": "stream",
     "text": [
      "3\n"
     ]
    }
   ],
   "source": [
    "run mypython.py"
   ]
  },
  {
   "cell_type": "markdown",
   "metadata": {
    "slideshow": {
     "slide_type": "subslide"
    }
   },
   "source": [
    "- Let's push the new file to your remote repository. Start SoureTree.\n",
    "- Stage \"mypython.py.\"\n",
    "- Commit and push (commit message = e.g. \"Create mypython.py.\")."
   ]
  },
  {
   "cell_type": "markdown",
   "metadata": {
    "slideshow": {
     "slide_type": "slide"
    }
   },
   "source": [
    "## 3. Variables and Objects\n",
    "- You make a variable and assign your \"data\" to it. \"Data\" are also called objects in Python.\n",
    "- For example, `x = 1` creates a variable with a name `x`, and assigns object `1` to that variable.\n",
    "    - Try `x = x + 1`. You should get an error. Why?"
   ]
  },
  {
   "cell_type": "code",
   "execution_count": null,
   "metadata": {
    "slideshow": {
     "slide_type": "-"
    }
   },
   "outputs": [],
   "source": []
  },
  {
   "cell_type": "markdown",
   "metadata": {
    "slideshow": {
     "slide_type": "subslide"
    }
   },
   "source": [
    "#### - Variable assignment\n",
    "- To assign an object to a variable, type like this:\n",
    "```python\n",
    "mysum = 1 + 2\n",
    "print(mysum)\n",
    "```\n",
    "- If you do not need to define a variable, just type:\n",
    "```python\n",
    "print(1 + 2)\n",
    "```"
   ]
  },
  {
   "cell_type": "code",
   "execution_count": 19,
   "metadata": {
    "slideshow": {
     "slide_type": "-"
    }
   },
   "outputs": [
    {
     "name": "stdout",
     "output_type": "stream",
     "text": [
      "7\n"
     ]
    }
   ],
   "source": [
    "x = 1 + 6\n",
    "print(x)"
   ]
  },
  {
   "cell_type": "markdown",
   "metadata": {
    "slideshow": {
     "slide_type": "subslide"
    }
   },
   "source": [
    "- You can make more than one variable at once.\n",
    "- You can also print several values at once.\n",
    "- Try:\n",
    "```python\n",
    "a, b = 1, 2\n",
    "c = d = 1\n",
    "print(a, b)\n",
    "print(a); print(b)\n",
    "print(c, d)\n",
    "```"
   ]
  },
  {
   "cell_type": "code",
   "execution_count": 20,
   "metadata": {
    "slideshow": {
     "slide_type": "-"
    }
   },
   "outputs": [
    {
     "name": "stdout",
     "output_type": "stream",
     "text": [
      "1 2\n",
      "1\n",
      "2\n",
      "1 1\n"
     ]
    }
   ],
   "source": [
    "a, b = 1, 2\n",
    "c=d=1\n",
    "print(a, b)\n",
    "print(a); print(b)\n",
    "print(c, d)"
   ]
  },
  {
   "cell_type": "markdown",
   "metadata": {
    "slideshow": {
     "slide_type": "slide"
    }
   },
   "source": [
    "#### - Types\n",
    "- An object has a unique type. Major types are: numbers (floats, integers), strings, booleans, lists, tuples, and dictionaries.\n",
    "- Use `type()` to check the type.\n",
    "- Check the type of:\n",
    "```python\n",
    "myint = 1\n",
    "myfloat = 1.0\n",
    "mystr = \"Hello\"\n",
    "mybool = True  "
   ]
  },
  {
   "cell_type": "code",
   "execution_count": 34,
   "metadata": {
    "slideshow": {
     "slide_type": "-"
    }
   },
   "outputs": [
    {
     "data": {
      "text/plain": [
       "bool"
      ]
     },
     "execution_count": 34,
     "metadata": {},
     "output_type": "execute_result"
    }
   ],
   "source": [
    "type(True)"
   ]
  },
  {
   "cell_type": "markdown",
   "metadata": {
    "slideshow": {
     "slide_type": "subslide"
    }
   },
   "source": [
    "- What are the type of `True` and `\"True\"`?"
   ]
  },
  {
   "cell_type": "code",
   "execution_count": 37,
   "metadata": {
    "slideshow": {
     "slide_type": "-"
    }
   },
   "outputs": [
    {
     "data": {
      "text/plain": [
       "str"
      ]
     },
     "execution_count": 37,
     "metadata": {},
     "output_type": "execute_result"
    }
   ],
   "source": [
    "type(\"True\")"
   ]
  },
  {
   "cell_type": "markdown",
   "metadata": {
    "slideshow": {
     "slide_type": "subslide"
    }
   },
   "source": [
    "- If a string includes a quote like `\"This is a \"quote\"\"`, it returns an error. In this case, use `'This is a \"quote\"'` instead.\n",
    "- Try both:"
   ]
  },
  {
   "cell_type": "code",
   "execution_count": 43,
   "metadata": {
    "slideshow": {
     "slide_type": "-"
    }
   },
   "outputs": [
    {
     "data": {
      "text/plain": [
       "str"
      ]
     },
     "execution_count": 43,
     "metadata": {},
     "output_type": "execute_result"
    }
   ],
   "source": [
    "type('This is a \"quote\"')"
   ]
  },
  {
   "cell_type": "markdown",
   "metadata": {
    "slideshow": {
     "slide_type": "subslide"
    }
   },
   "source": [
    "- What are the outcome of `1 + 2` and `1 + 2 == 3`? Print them. Also check the type."
   ]
  },
  {
   "cell_type": "code",
   "execution_count": 51,
   "metadata": {
    "slideshow": {
     "slide_type": "-"
    }
   },
   "outputs": [
    {
     "name": "stdout",
     "output_type": "stream",
     "text": [
      "False\n"
     ]
    }
   ],
   "source": [
    "print(1 + 2==4)"
   ]
  },
  {
   "cell_type": "markdown",
   "metadata": {
    "slideshow": {
     "slide_type": "subslide"
    }
   },
   "source": [
    "- You can change the type of an object by using `float()`, `int()`, `str()`, and `bool()`.\n",
    "- Write `myint = 1`, then print. Convert to float, then print again."
   ]
  },
  {
   "cell_type": "code",
   "execution_count": 65,
   "metadata": {
    "slideshow": {
     "slide_type": "-"
    }
   },
   "outputs": [
    {
     "data": {
      "text/plain": [
       "'1'"
      ]
     },
     "execution_count": 65,
     "metadata": {},
     "output_type": "execute_result"
    }
   ],
   "source": [
    "myint = 1\n",
    "str(myint)"
   ]
  },
  {
   "cell_type": "markdown",
   "metadata": {
    "slideshow": {
     "slide_type": "subslide"
    }
   },
   "source": [
    "- These functions assign a new object representing the converted value, rather than changing the object itself.\n",
    "    - This applies to *immutable* types, i.e., float, int, str, and tuple.\n",
    "- To see this, type:\n",
    "```python\n",
    "print(1)\n",
    "print(float(1))\n",
    "print(type(float(1)))\n",
    "```"
   ]
  },
  {
   "cell_type": "code",
   "execution_count": 66,
   "metadata": {
    "slideshow": {
     "slide_type": "-"
    }
   },
   "outputs": [
    {
     "name": "stdout",
     "output_type": "stream",
     "text": [
      "1\n",
      "1.0\n",
      "<class 'float'>\n"
     ]
    }
   ],
   "source": [
    "print(1)\n",
    "print(float(1))\n",
    "print(type(float(1)))"
   ]
  },
  {
   "cell_type": "markdown",
   "metadata": {
    "slideshow": {
     "slide_type": "subslide"
    }
   },
   "source": [
    "- `False` is `0` and `0` is `False`. `True` is `1` and `1` is `True`.\n",
    "- Most of the rest of objects are also `True`.\n",
    "- Try:\n",
    "```python\n",
    "print(int(False),bool(0))\n",
    "print(int(True),bool(1))\n",
    "print(bool(\"Hello\"))\n",
    "```"
   ]
  },
  {
   "cell_type": "code",
   "execution_count": null,
   "metadata": {
    "slideshow": {
     "slide_type": "-"
    }
   },
   "outputs": [],
   "source": []
  },
  {
   "cell_type": "markdown",
   "metadata": {
    "slideshow": {
     "slide_type": "subslide"
    }
   },
   "source": [
    "- The type of `None` is `NoneType`. `None` is `False`.\n",
    "- Type:\n",
    "```python\n",
    "print(type(None))\n",
    "print(bool(None))\n",
    "```"
   ]
  },
  {
   "cell_type": "code",
   "execution_count": null,
   "metadata": {},
   "outputs": [],
   "source": []
  },
  {
   "cell_type": "markdown",
   "metadata": {
    "slideshow": {
     "slide_type": "subslide"
    }
   },
   "source": [
    "#### - Concatenation and other operations\n",
    "- You can use `+` and `*` for strings and booleans.\n",
    "- Try:\n",
    "```python\n",
    "print(\"He\" + \"l\" * 2 + \"o!\") \n",
    "print(True + False) \n",
    "```\n",
    "- What is the outcome of `True * 2`? Try it."
   ]
  },
  {
   "cell_type": "code",
   "execution_count": null,
   "metadata": {
    "slideshow": {
     "slide_type": "-"
    }
   },
   "outputs": [],
   "source": []
  },
  {
   "cell_type": "markdown",
   "metadata": {
    "slideshow": {
     "slide_type": "subslide"
    }
   },
   "source": [
    "- You cannot include both numbers and strings at once with `+` operator.\n",
    "- Try:\n",
    "```python\n",
    "print(\"I have \" + savings + \" USD in my account.\")\n",
    "```\n",
    "-Next, try:\n",
    "```python\n",
    "print(\"I have \" + str(savings) + \" USD in my account.\")  \n",
    "```\n",
    "- You often use the above form or the following form when you use a loop.\n",
    "```python\n",
    "print(\"I have \", savings, \" USD in my account.\")  \n",
    "```"
   ]
  },
  {
   "cell_type": "code",
   "execution_count": 74,
   "metadata": {
    "slideshow": {
     "slide_type": "-"
    }
   },
   "outputs": [],
   "source": [
    "savings = 100"
   ]
  },
  {
   "cell_type": "markdown",
   "metadata": {
    "slideshow": {
     "slide_type": "subslide"
    }
   },
   "source": [
    "#### - Lists\n",
    "- Lists are a type of the object (like str, float, etc.).\n",
    "- A list can contain any Python type including a list.\n",
    "- Print the following list. Also, check the type."
   ]
  },
  {
   "cell_type": "code",
   "execution_count": 6,
   "metadata": {
    "slideshow": {
     "slide_type": "-"
    }
   },
   "outputs": [
    {
     "name": "stdout",
     "output_type": "stream",
     "text": [
      "['sam', 1.75, 'sara', 1.82]\n"
     ]
    }
   ],
   "source": [
    "mylist1 = [\"sam\", 1.75, \"sara\", 1.82] # mylist1 contains strings and numbers.\n",
    "mylist2 = [[\"sam\", 1.75], [\"sara\", 1.82]] # mylist2 contains lists, and each list contains a string and a number.\n",
    "print(mylist1)"
   ]
  },
  {
   "cell_type": "markdown",
   "metadata": {
    "slideshow": {
     "slide_type": "subslide"
    }
   },
   "source": [
    "- An empty list can be made by writing, e.g., `mylist = []`.\n",
    "- Make an empty list and check the type."
   ]
  },
  {
   "cell_type": "code",
   "execution_count": 8,
   "metadata": {
    "slideshow": {
     "slide_type": "-"
    }
   },
   "outputs": [
    {
     "ename": "TypeError",
     "evalue": "'mylist' is an invalid keyword argument for this function",
     "output_type": "error",
     "traceback": [
      "\u001b[1;31m---------------------------------------------------------------------------\u001b[0m",
      "\u001b[1;31mTypeError\u001b[0m                                 Traceback (most recent call last)",
      "\u001b[1;32m<ipython-input-8-b5785d056548>\u001b[0m in \u001b[0;36m<module>\u001b[1;34m()\u001b[0m\n\u001b[1;32m----> 1\u001b[1;33m \u001b[0mprint\u001b[0m\u001b[1;33m(\u001b[0m\u001b[0mmylist\u001b[0m \u001b[1;33m=\u001b[0m \u001b[1;33m[\u001b[0m\u001b[1;33m]\u001b[0m\u001b[1;33m)\u001b[0m\u001b[1;33m\u001b[0m\u001b[0m\n\u001b[0m",
      "\u001b[1;31mTypeError\u001b[0m: 'mylist' is an invalid keyword argument for this function"
     ]
    }
   ],
   "source": []
  },
  {
   "cell_type": "markdown",
   "metadata": {
    "slideshow": {
     "slide_type": "subslide"
    }
   },
   "source": [
    "- You can make more than one list at once."
   ]
  },
  {
   "cell_type": "code",
   "execution_count": null,
   "metadata": {
    "slideshow": {
     "slide_type": "-"
    }
   },
   "outputs": [],
   "source": [
    "list1, list2 = [1,2], [3,4]\n",
    "print(list1, list2)"
   ]
  },
  {
   "cell_type": "markdown",
   "metadata": {
    "slideshow": {
     "slide_type": "subslide"
    }
   },
   "source": [
    "- Use brackets like `mylist[]` to subset a list. For a list of lists, use `mylist[][]`, etc. \n",
    "- A list is indexed from 0 (zero-based indexing)!!\n",
    "- Get the first element in `mylist1` (\"sam\"). Also get \"sam\" in `mylist2`."
   ]
  },
  {
   "cell_type": "code",
   "execution_count": 5,
   "metadata": {
    "slideshow": {
     "slide_type": "-"
    }
   },
   "outputs": [],
   "source": [
    "mylist1 = [\"sam\", 1.75, \"sara\", 1.82] \n",
    "mylist2 = [[\"sam\", 1.75], [\"sara\", 1.82]"
   ]
  },
  {
   "cell_type": "markdown",
   "metadata": {
    "slideshow": {
     "slide_type": "subslide"
    }
   },
   "source": [
    "- Arithmetic operation is possible.\n",
    "- Calculate the sum of heights in `mylist`."
   ]
  },
  {
   "cell_type": "code",
   "execution_count": 25,
   "metadata": {
    "slideshow": {
     "slide_type": "-"
    }
   },
   "outputs": [],
   "source": [
    "mylist = [\"sam\", 1.75, \"sara\", 1.82] "
   ]
  },
  {
   "cell_type": "markdown",
   "metadata": {
    "slideshow": {
     "slide_type": "subslide"
    }
   },
   "source": [
    "- To slice a list, use `mylist[start:end]`, i.e., brackets and a colon. The rule is `mylist[inclusive:exclusive]`.\n",
    "- You can also use `-` in `[:]`, which specifies the index from the end.\n",
    "- Get the first and the second element in `mylist` using `[:]`.\n",
    "- Get elements from the second to the end in `mylist` using `[:]`.\n",
    "- Repeat the same exercises using `-`."
   ]
  },
  {
   "cell_type": "code",
   "execution_count": 9,
   "metadata": {
    "slideshow": {
     "slide_type": "-"
    }
   },
   "outputs": [],
   "source": [
    "mylist = [\"sam\", 1.75, \"sara\", 1.82] "
   ]
  },
  {
   "cell_type": "markdown",
   "metadata": {
    "slideshow": {
     "slide_type": "subslide"
    }
   },
   "source": [
    "- You can also subset and slice a string.\n",
    "- Try:\n",
    "```python\n",
    "print(\"sara\"[0])\n",
    "print(\"sara\"[0:2])\n",
    "```"
   ]
  },
  {
   "cell_type": "code",
   "execution_count": 12,
   "metadata": {
    "slideshow": {
     "slide_type": "-"
    }
   },
   "outputs": [
    {
     "name": "stdout",
     "output_type": "stream",
     "text": [
      "a\n"
     ]
    }
   ],
   "source": [
    "print(\"sara\"[1])"
   ]
  },
  {
   "cell_type": "markdown",
   "metadata": {
    "slideshow": {
     "slide_type": "subslide"
    }
   },
   "source": [
    "- You can change the element of a list by typing `mylist[location] = new_value`.\n",
    "- Change \"sam\" in `mylist` to \"robert\"."
   ]
  },
  {
   "cell_type": "code",
   "execution_count": 14,
   "metadata": {
    "slideshow": {
     "slide_type": "-"
    }
   },
   "outputs": [],
   "source": [
    "mylist = [\"robert\", 1.75, \"sara\", 1.82]"
   ]
  },
  {
   "cell_type": "markdown",
   "metadata": {
    "slideshow": {
     "slide_type": "subslide"
    }
   },
   "source": [
    "- You can add a list to another list using `+` operator.\n",
    "- Add `[\"bob\",1.85]` to `mylist1`.\n",
    "- Try the same for `mylist2`."
   ]
  },
  {
   "cell_type": "code",
   "execution_count": null,
   "metadata": {
    "slideshow": {
     "slide_type": "-"
    }
   },
   "outputs": [],
   "source": [
    "mylist1 = [\"sam\", 1.75, \"sara\", 1.82] \n",
    "mylist2 = [[\"sam\", 1.75], [\"sara\", 1.82]] "
   ]
  },
  {
   "cell_type": "markdown",
   "metadata": {
    "slideshow": {
     "slide_type": "subslide"
    }
   },
   "source": [
    "- You cannot add a number to a list.\n",
    "- Try adding some number to `mylist` using `+` operator."
   ]
  },
  {
   "cell_type": "code",
   "execution_count": null,
   "metadata": {
    "slideshow": {
     "slide_type": "-"
    }
   },
   "outputs": [],
   "source": [
    "mylist = [\"sam\", 1.75, \"sara\", 1.82] "
   ]
  },
  {
   "cell_type": "markdown",
   "metadata": {
    "slideshow": {
     "slide_type": "subslide"
    }
   },
   "source": [
    "- `*` operator can be used for lists. What are the outcome of `[1] * 4` and `[\"sara\"] * 4`?\n",
    "- Also try `[1 * 4]` and `[\"sara\" * 4]`."
   ]
  },
  {
   "cell_type": "code",
   "execution_count": 15,
   "metadata": {
    "slideshow": {
     "slide_type": "-"
    }
   },
   "outputs": [
    {
     "ename": "TypeError",
     "evalue": "'builtin_function_or_method' object is not subscriptable",
     "output_type": "error",
     "traceback": [
      "\u001b[1;31m---------------------------------------------------------------------------\u001b[0m",
      "\u001b[1;31mTypeError\u001b[0m                                 Traceback (most recent call last)",
      "\u001b[1;32m<ipython-input-15-9365f2de5613>\u001b[0m in \u001b[0;36m<module>\u001b[1;34m()\u001b[0m\n\u001b[1;32m----> 1\u001b[1;33m \u001b[0mprint\u001b[0m\u001b[1;33m[\u001b[0m\u001b[1;36m1\u001b[0m\u001b[1;33m]\u001b[0m\u001b[1;33m*\u001b[0m\u001b[1;36m4\u001b[0m\u001b[1;33m\u001b[0m\u001b[0m\n\u001b[0m\u001b[0;32m      2\u001b[0m \u001b[0mprint\u001b[0m\u001b[1;33m[\u001b[0m\u001b[1;34m\"sara\"\u001b[0m\u001b[1;33m]\u001b[0m\u001b[1;33m*\u001b[0m\u001b[1;36m4\u001b[0m\u001b[1;33m\u001b[0m\u001b[0m\n",
      "\u001b[1;31mTypeError\u001b[0m: 'builtin_function_or_method' object is not subscriptable"
     ]
    }
   ],
   "source": [
    "print[1]*4\n",
    "print[\"sara\"]*4"
   ]
  },
  {
   "cell_type": "markdown",
   "metadata": {
    "slideshow": {
     "slide_type": "subslide"
    }
   },
   "source": [
    "- To delete an element in the list, use `del(mylist[location])`.\n",
    "- Delete the second element in `mylist`."
   ]
  },
  {
   "cell_type": "code",
   "execution_count": 16,
   "metadata": {
    "slideshow": {
     "slide_type": "-"
    }
   },
   "outputs": [
    {
     "name": "stdout",
     "output_type": "stream",
     "text": [
      "['sam', 'sara', 1.82]\n"
     ]
    }
   ],
   "source": [
    "mylist = [\"sam\", 1.75, \"sara\", 1.82] \n",
    "del(mylist[1])\n",
    "print(mylist)"
   ]
  },
  {
   "cell_type": "markdown",
   "metadata": {
    "slideshow": {
     "slide_type": "subslide"
    }
   },
   "source": [
    "- You can check if an element is in the list using `in`.\n",
    "- You can apply the same method for strings.\n",
    "- Try:\n",
    "```python\n",
    "print(\"sara\" in mylist1)\n",
    "print(\"sara\" in mylist2)\n",
    "print(\"r\" in \"sara\")\n",
    "```"
   ]
  },
  {
   "cell_type": "code",
   "execution_count": 34,
   "metadata": {
    "slideshow": {
     "slide_type": "-"
    }
   },
   "outputs": [],
   "source": [
    "mylist1 = [\"sam\", 1.75, \"sara\", 1.82] \n",
    "mylist2 = [[\"sam\", 1.75], [\"sara\", 1.82]] \n",
    "print(\"sara\" in myist)\n",
    "print(\"sara\" in mylists2[1]\n",
    "print(\"r\" in \"sara\")\n",
    "      \n",
    "      "
   ]
  },
  {
   "cell_type": "markdown",
   "metadata": {
    "slideshow": {
     "slide_type": "subslide"
    }
   },
   "source": [
    "- When you manipulate a list, the object itself changes.\n",
    "- This applies to *mutable* types, i.e., lists and dictionaries.\n",
    "    - While float, int, str, and tuple are *immutable* types.\n",
    "- Different objects are assigned:\n",
    "```python\n",
    "mylist1 = [\"a\", \"b\", \"c\"]\n",
    "mylist2 = [\"a\", \"b\", \"c\"]\n",
    "```\n",
    "- The same object is assigned:\n",
    "```python\n",
    "myint1 = 1\n",
    "myint2 = 1\n",
    "```\n",
    "- Let's see the difference."
   ]
  },
  {
   "cell_type": "code",
   "execution_count": 17,
   "metadata": {
    "slideshow": {
     "slide_type": "subslide"
    }
   },
   "outputs": [
    {
     "name": "stdout",
     "output_type": "stream",
     "text": [
      "['a', 'b', 'c']\n",
      "['a', 'd', 'c']\n"
     ]
    }
   ],
   "source": [
    "mylist1 = [\"a\", \"b\", \"c\"]\n",
    "print(mylist1)\n",
    "mylist2 = mylist1\n",
    "mylist2[1] = \"d\"\n",
    "print(mylist1)"
   ]
  },
  {
   "cell_type": "code",
   "execution_count": 18,
   "metadata": {
    "slideshow": {
     "slide_type": "-"
    }
   },
   "outputs": [
    {
     "name": "stdout",
     "output_type": "stream",
     "text": [
      "1\n",
      "1\n"
     ]
    }
   ],
   "source": [
    "myint1 = 1\n",
    "print(myint1)\n",
    "myint2 = myint1\n",
    "myint2 = 2 \n",
    "print(myint1)"
   ]
  },
  {
   "cell_type": "markdown",
   "metadata": {
    "slideshow": {
     "slide_type": "subslide"
    }
   },
   "source": [
    "- To avoid this, use `[:]`.\n",
    "- Repeat the same thing using `mylist2 = mylist1[:]`."
   ]
  },
  {
   "cell_type": "code",
   "execution_count": 3,
   "metadata": {
    "slideshow": {
     "slide_type": "-"
    }
   },
   "outputs": [],
   "source": [
    "mylist1 = ['a', 'b', 'c']\n",
    "mylist2 = mylist[:]"
   ]
  },
  {
   "cell_type": "markdown",
   "metadata": {
    "slideshow": {
     "slide_type": "subslide"
    }
   },
   "source": [
    "#### - Dictionaries\n",
    "- Dictionaries are one of the types.\n",
    "- A dictionary contains a set of key-value pairs.\n",
    "- You can access a value using the associated key.\n",
    "- Keys have to be immutable types, i.e., numbers, strings, booleans, etc.\n",
    "    - For example, a list cannot be a key.\n",
    "- There is no concept of order or index for dictionaries!!\n",
    "- Get the height of \"sara\" in `mydict`."
   ]
  },
  {
   "cell_type": "code",
   "execution_count": 19,
   "metadata": {
    "slideshow": {
     "slide_type": "-"
    }
   },
   "outputs": [
    {
     "data": {
      "text/plain": [
       "1.82"
      ]
     },
     "execution_count": 19,
     "metadata": {},
     "output_type": "execute_result"
    }
   ],
   "source": [
    "mydict = {\"sam\":1.75, \"sara\":1.82}\n",
    "mydict[\"sara\"]"
   ]
  },
  {
   "cell_type": "markdown",
   "metadata": {
    "slideshow": {
     "slide_type": "subslide"
    }
   },
   "source": [
    "- It's possible to make a dictionary of dictionaries.\n",
    "- You can access an element using `mydict[][]`, etc.\n",
    "- Get the height of \"sara\" in `mydict`."
   ]
  },
  {
   "cell_type": "code",
   "execution_count": 20,
   "metadata": {
    "slideshow": {
     "slide_type": "-"
    }
   },
   "outputs": [
    {
     "data": {
      "text/plain": [
       "1.82"
      ]
     },
     "execution_count": 20,
     "metadata": {},
     "output_type": "execute_result"
    }
   ],
   "source": [
    "mydict = {\"sam\":{\"height\":1.75, \"weight\":80.0}, \"sara\":{\"height\":1.82, \"weight\":85.0}}\n",
    "mydict[\"sara\"][\"height\"]\n"
   ]
  },
  {
   "cell_type": "markdown",
   "metadata": {
    "slideshow": {
     "slide_type": "subslide"
    }
   },
   "source": [
    "- You can get all keys of a dictionary using `mydict.keys()`.\n",
    "- Use `mykey in mydic` to check if `mydict` contains `mykey`.\n",
    "- Check all keys in `mydict`.\n",
    "- Check all keys in `mydict[\"sam\"]`.\n",
    "- Check if \"height\" is a key in `mydict`.\n",
    "- Check if \"height\" is a key in `mydict[\"sam\"]`."
   ]
  },
  {
   "cell_type": "code",
   "execution_count": 1,
   "metadata": {
    "slideshow": {
     "slide_type": "-"
    }
   },
   "outputs": [
    {
     "name": "stdout",
     "output_type": "stream",
     "text": [
      "{'sam': {'height': 1.75, 'weight': 80.0}, 'sara': {'height': 1.82, 'weight': 85.0}}\n"
     ]
    }
   ],
   "source": [
    "mydict = {\"sam\":{\"height\":1.75, \"weight\":80.0}, \"sara\":{\"height\":1.82, \"weight\":85.0}}\n",
    "print(mydict)"
   ]
  },
  {
   "cell_type": "markdown",
   "metadata": {
    "slideshow": {
     "slide_type": "subslide"
    }
   },
   "source": [
    "- You can add a key-value pair to the dictionary using `mydict[key] = value`.\n",
    "- The same method also allows you to modify values.\n",
    "- To delete a pair, use `del(mydict[key])`.\n",
    "- Add \"lisa\" whose height is 1.65 to `mydict`.\n",
    "- Delete \"lisa\" (and the associated height)."
   ]
  },
  {
   "cell_type": "code",
   "execution_count": 46,
   "metadata": {
    "slideshow": {
     "slide_type": "-"
    }
   },
   "outputs": [],
   "source": [
    "mydict = {\"sam\":1.75, \"sara\":1.82}"
   ]
  },
  {
   "cell_type": "markdown",
   "metadata": {
    "slideshow": {
     "slide_type": "subslide"
    }
   },
   "source": [
    "- If keys are not unique, the left most value shows up."
   ]
  },
  {
   "cell_type": "code",
   "execution_count": null,
   "metadata": {
    "slideshow": {
     "slide_type": "-"
    }
   },
   "outputs": [],
   "source": [
    "mydict = {\"sam\":1.75, \"sara\":1.82, \"sam\":1.95}\n",
    "print(mydict)"
   ]
  },
  {
   "cell_type": "markdown",
   "metadata": {
    "slideshow": {
     "slide_type": "subslide"
    }
   },
   "source": [
    "#### - Tuples\n",
    "- A tuple is similar to a list except that you cannot change the element.\n",
    "- Change the second element in `mytuple` to 4."
   ]
  },
  {
   "cell_type": "code",
   "execution_count": 28,
   "metadata": {
    "slideshow": {
     "slide_type": "-"
    }
   },
   "outputs": [
    {
     "name": "stdout",
     "output_type": "stream",
     "text": [
      "2\n"
     ]
    }
   ],
   "source": [
    "mytuple = (1, 2, 3)\n",
    "print(mytuple[1])"
   ]
  },
  {
   "cell_type": "markdown",
   "metadata": {
    "slideshow": {
     "slide_type": "subslide"
    }
   },
   "source": [
    "- You can slice and subset a tuple."
   ]
  },
  {
   "cell_type": "code",
   "execution_count": null,
   "metadata": {
    "slideshow": {
     "slide_type": "-"
    }
   },
   "outputs": [],
   "source": [
    "mytuple = (1, 2, 3)\n",
    "print(mytuple[1])\n",
    "print(mytuple[0:2])"
   ]
  },
  {
   "cell_type": "markdown",
   "metadata": {
    "slideshow": {
     "slide_type": "slide"
    }
   },
   "source": [
    "## 4. Functions\n",
    "- Functions return outputs given inputs. They also allow options if available.\n",
    "- Useful built-in functions include: print(), float(), int(), str(), len(), max(), min(), round(), sorted(), etc. \n",
    "    - Some functions are used only for specific types.\n",
    "    - (Strictly speaking, operators like float(), int(), str() are not functions. They are called class constructors.)\n",
    "- Print the maximum height in `heights` using `max()`. Can you do the same for `mylist`?\n",
    "- Print the length of `mylist` using `len()`.\n",
    "- Print the length of \"sam\" in `mylist` using `len()`."
   ]
  },
  {
   "cell_type": "code",
   "execution_count": 35,
   "metadata": {
    "slideshow": {
     "slide_type": "-"
    }
   },
   "outputs": [
    {
     "name": "stdout",
     "output_type": "stream",
     "text": [
      "4\n",
      "4\n",
      "Help on built-in function round in module builtins:\n",
      "\n",
      "round(...)\n",
      "    round(number[, ndigits]) -> number\n",
      "    \n",
      "    Round a number to a given precision in decimal digits (default 0 digits).\n",
      "    This returns an int when called with one argument, otherwise the\n",
      "    same type as the number. ndigits may be negative.\n",
      "\n"
     ]
    }
   ],
   "source": [
    "mylist = [\"sam\", 1.75, \"sara\", 1.82]\n",
    "heights = [1.75, 1.82]\n",
    "max(heights)\n",
    "print(len(mylist))\n",
    "print(len(\"sara\"))\n",
    "help(round)"
   ]
  },
  {
   "cell_type": "markdown",
   "metadata": {
    "slideshow": {
     "slide_type": "subslide"
    }
   },
   "source": [
    "- To see a help file, type `?` before or after a function name, or write `help()`.\n",
    "- Try `?round`, `round?`, and `help(round)`."
   ]
  },
  {
   "cell_type": "code",
   "execution_count": 42,
   "metadata": {
    "slideshow": {
     "slide_type": "-"
    }
   },
   "outputs": [
    {
     "data": {
      "text/plain": [
       "2.0"
      ]
     },
     "execution_count": 42,
     "metadata": {},
     "output_type": "execute_result"
    }
   ],
   "source": [
    "round(1.84,0)"
   ]
  },
  {
   "cell_type": "markdown",
   "metadata": {
    "slideshow": {
     "slide_type": "subslide"
    }
   },
   "source": [
    "- It returns `round(number[, ndigits]) -> number` and an explanation about the function. This means that the input is a numeric number, and the output is a numeric number that is rounded. `ndigits` is an option by which you can specify a precision in decimal digits.\n",
    "- For example, `round(1.85, 1)` returns the closest float number with one decimal digit, i.e., 1.9. What about `round(1.84,1)`?"
   ]
  },
  {
   "cell_type": "code",
   "execution_count": null,
   "metadata": {
    "slideshow": {
     "slide_type": "-"
    }
   },
   "outputs": [],
   "source": []
  },
  {
   "cell_type": "markdown",
   "metadata": {
    "slideshow": {
     "slide_type": "subslide"
    }
   },
   "source": [
    "- You can make a function easily. The following example uses `x` and `y` as inputs and returns `x + y`."
   ]
  },
  {
   "cell_type": "code",
   "execution_count": 45,
   "metadata": {
    "slideshow": {
     "slide_type": "-"
    }
   },
   "outputs": [
    {
     "name": "stdout",
     "output_type": "stream",
     "text": [
      "5\n",
      "13\n"
     ]
    }
   ],
   "source": [
    "def mysum(x, y): \n",
    "    return x + y\n",
    "print(mysum(2, 3))\n",
    "print(mysum(10, 3))"
   ]
  },
  {
   "cell_type": "markdown",
   "metadata": {
    "slideshow": {
     "slide_type": "subslide"
    }
   },
   "source": [
    "- You can also use lambda functions."
   ]
  },
  {
   "cell_type": "code",
   "execution_count": 46,
   "metadata": {
    "slideshow": {
     "slide_type": "-"
    }
   },
   "outputs": [
    {
     "name": "stdout",
     "output_type": "stream",
     "text": [
      "5\n"
     ]
    }
   ],
   "source": [
    "mysum = lambda x, y: x + y\n",
    "print(mysum(2, 3))"
   ]
  },
  {
   "cell_type": "markdown",
   "metadata": {
    "slideshow": {
     "slide_type": "subslide"
    }
   },
   "source": [
    "- Make a function which returns the type of an input."
   ]
  },
  {
   "cell_type": "code",
   "execution_count": 47,
   "metadata": {
    "slideshow": {
     "slide_type": "-"
    }
   },
   "outputs": [
    {
     "name": "stdout",
     "output_type": "stream",
     "text": [
      "<class 'str'>\n"
     ]
    }
   ],
   "source": [
    "def myfunc(x):\n",
    "    return type(x)\n",
    "print(myfunc(\"sara\"))"
   ]
  },
  {
   "cell_type": "markdown",
   "metadata": {
    "slideshow": {
     "slide_type": "slide"
    }
   },
   "source": [
    "## 5. Methods\n",
    "- Methods are functions attached to an object.\n",
    "- Useful methods include: index(), count(), append(), remove(), reverse(), sort(), capitalize(), upper(), replace(), etc.\n",
    "- You write like `object.method`."
   ]
  },
  {
   "cell_type": "code",
   "execution_count": 48,
   "metadata": {
    "slideshow": {
     "slide_type": "subslide"
    }
   },
   "outputs": [
    {
     "name": "stdout",
     "output_type": "stream",
     "text": [
      "['sam', 1.75, 'sara', 1.82]\n",
      "2\n",
      "1\n",
      "1\n",
      "2\n",
      "['sam', 1.75, 'sara', 1.82, 'ken', 1.95]\n",
      "['sam', 1.75, 'sara', 1.82]\n",
      "[1.82, 'sara', 1.75, 'sam']\n",
      "[1.75, 1.82]\n"
     ]
    }
   ],
   "source": [
    "mylist = [\"sam\", 1.75, \"sara\", 1.82]\n",
    "heights = [1.82, 1.75]\n",
    "print(mylist)\n",
    "print(mylist.index(\"sara\")) # returns the index of (the first) \"sara\"\n",
    "print(mylist[2].index(\"a\")) # returns the index of (the first) \"a\" in \"sara\"\n",
    "print(mylist.count(\"sara\")) # counts the number of \"sara\" in mylist1\n",
    "print(mylist[2].count('a')) # counts the number of \"a\"s in \"sara\"\n",
    "mylist.append('ken'); mylist.append(1.95) # append\n",
    "print(mylist)\n",
    "mylist.remove('ken'); mylist.remove(1.95) # remove\n",
    "print(mylist)\n",
    "mylist.reverse() # reverse the order\n",
    "print(mylist)\n",
    "heights.sort() # sort works for numbers.\n",
    "print(heights)\n",
    "# mylist.sort() # This returns an error."
   ]
  },
  {
   "cell_type": "markdown",
   "metadata": {
    "slideshow": {
     "slide_type": "subslide"
    }
   },
   "source": [
    "- Some methods are attached only to a specific object type."
   ]
  },
  {
   "cell_type": "code",
   "execution_count": 1,
   "metadata": {
    "slideshow": {
     "slide_type": "-"
    }
   },
   "outputs": [
    {
     "name": "stdout",
     "output_type": "stream",
     "text": [
      "SARA\n",
      "Sara\n",
      "kara\n",
      "['sam', 1.75, 'sara', 1.82]\n",
      "['sam', 1.75, 'SARA', 1.82]\n"
     ]
    }
   ],
   "source": [
    "mylist = [\"sam\", 1.75, \"sara\", 1.82]\n",
    "heights = [1.82, 1.75]\n",
    "# print(mylist1.upper()) # This returns an error.\n",
    "print(mylist[2].upper()) # same as 'sara'.upper()\n",
    "print(mylist[2].capitalize()) # same as 'sara'.capitalize()\n",
    "print(mylist[2].replace(\"s\",\"k\")) # replace 's' as 'k' in 'sara'\n",
    "print(mylist) # None of these methods changes the original list.\n",
    "mylist[2] = mylist[2].upper() # You have to assign the output to the same variable.\n",
    "print(mylist)"
   ]
  },
  {
   "cell_type": "markdown",
   "metadata": {
    "slideshow": {
     "slide_type": "subslide"
    }
   },
   "source": [
    "- You can check methods using `dir()`."
   ]
  },
  {
   "cell_type": "code",
   "execution_count": 49,
   "metadata": {
    "slideshow": {
     "slide_type": "-"
    }
   },
   "outputs": [
    {
     "name": "stdout",
     "output_type": "stream",
     "text": [
      "['__add__', '__class__', '__contains__', '__delattr__', '__delitem__', '__dir__', '__doc__', '__eq__', '__format__', '__ge__', '__getattribute__', '__getitem__', '__gt__', '__hash__', '__iadd__', '__imul__', '__init__', '__init_subclass__', '__iter__', '__le__', '__len__', '__lt__', '__mul__', '__ne__', '__new__', '__reduce__', '__reduce_ex__', '__repr__', '__reversed__', '__rmul__', '__setattr__', '__setitem__', '__sizeof__', '__str__', '__subclasshook__', 'append', 'clear', 'copy', 'count', 'extend', 'index', 'insert', 'pop', 'remove', 'reverse', 'sort']\n",
      "['__add__', '__class__', '__contains__', '__delattr__', '__dir__', '__doc__', '__eq__', '__format__', '__ge__', '__getattribute__', '__getitem__', '__getnewargs__', '__gt__', '__hash__', '__init__', '__init_subclass__', '__iter__', '__le__', '__len__', '__lt__', '__mod__', '__mul__', '__ne__', '__new__', '__reduce__', '__reduce_ex__', '__repr__', '__rmod__', '__rmul__', '__setattr__', '__sizeof__', '__str__', '__subclasshook__', 'capitalize', 'casefold', 'center', 'count', 'encode', 'endswith', 'expandtabs', 'find', 'format', 'format_map', 'index', 'isalnum', 'isalpha', 'isdecimal', 'isdigit', 'isidentifier', 'islower', 'isnumeric', 'isprintable', 'isspace', 'istitle', 'isupper', 'join', 'ljust', 'lower', 'lstrip', 'maketrans', 'partition', 'replace', 'rfind', 'rindex', 'rjust', 'rpartition', 'rsplit', 'rstrip', 'split', 'splitlines', 'startswith', 'strip', 'swapcase', 'title', 'translate', 'upper', 'zfill']\n",
      "['__abs__', '__add__', '__bool__', '__class__', '__delattr__', '__dir__', '__divmod__', '__doc__', '__eq__', '__float__', '__floordiv__', '__format__', '__ge__', '__getattribute__', '__getformat__', '__getnewargs__', '__gt__', '__hash__', '__init__', '__init_subclass__', '__int__', '__le__', '__lt__', '__mod__', '__mul__', '__ne__', '__neg__', '__new__', '__pos__', '__pow__', '__radd__', '__rdivmod__', '__reduce__', '__reduce_ex__', '__repr__', '__rfloordiv__', '__rmod__', '__rmul__', '__round__', '__rpow__', '__rsub__', '__rtruediv__', '__setattr__', '__setformat__', '__sizeof__', '__str__', '__sub__', '__subclasshook__', '__truediv__', '__trunc__', 'as_integer_ratio', 'conjugate', 'fromhex', 'hex', 'imag', 'is_integer', 'real']\n"
     ]
    }
   ],
   "source": [
    "mylist = [\"sam\", 1.75, \"sara\", 1.82]\n",
    "print(dir(mylist))\n",
    "print(dir(mylist[0]))\n",
    "print(dir(mylist[1]))"
   ]
  },
  {
   "cell_type": "markdown",
   "metadata": {
    "slideshow": {
     "slide_type": "subslide"
    }
   },
   "source": [
    "- `?object.method`, `object.method?`, or `help(object.method)` to see a help file.\n",
    "- Get the help file for `upper` for strings using `mylist` as the object."
   ]
  },
  {
   "cell_type": "code",
   "execution_count": 50,
   "metadata": {
    "slideshow": {
     "slide_type": "-"
    }
   },
   "outputs": [],
   "source": [
    "mylist = [\"sam\", 1.75, \"sara\", 1.82]\n",
    "?mylist[0].upper"
   ]
  },
  {
   "cell_type": "markdown",
   "metadata": {
    "slideshow": {
     "slide_type": "slide"
    }
   },
   "source": [
    "## 6. Modules and Packages\n",
    "- You can import useful modules using `import module`. \n",
    "    - It is like defining a `module` object and enabling functions attached to the module object.\n",
    "- `,` operator can be used to import multiple modules."
   ]
  },
  {
   "cell_type": "code",
   "execution_count": 2,
   "metadata": {
    "slideshow": {
     "slide_type": "-"
    }
   },
   "outputs": [
    {
     "name": "stdout",
     "output_type": "stream",
     "text": [
      "0.7853981633974483\n",
      "0.7853981633974483\n"
     ]
    }
   ],
   "source": [
    "import math, numpy\n",
    "print(math.radians(45)) # convert degrees to radians\n",
    "print(numpy.radians(45)) # convert degrees to radians\n",
    "# (Note that NumPy is not a module, but a package. NumPy should have already been installed if you have installed Python using Anaconda. If not, open Command Prompt (for Windows), then type `pip3 install numpy` (for Python 3) or `pip install numpy` (for Python 2) to manually install NumPy. For Anaconda users, use `conda install numpy` for installing and updating NumPy."
   ]
  },
  {
   "cell_type": "markdown",
   "metadata": {
    "slideshow": {
     "slide_type": "subslide"
    }
   },
   "source": [
    "- Use `import module as myname` to define the module name as `myname`."
   ]
  },
  {
   "cell_type": "code",
   "execution_count": 3,
   "metadata": {
    "slideshow": {
     "slide_type": "-"
    }
   },
   "outputs": [
    {
     "name": "stdout",
     "output_type": "stream",
     "text": [
      "0.7853981633974483\n",
      "0.7853981633974483\n"
     ]
    }
   ],
   "source": [
    "import math as m, numpy as np\n",
    "print(m.radians(45))\n",
    "print(np.radians(45))"
   ]
  },
  {
   "cell_type": "markdown",
   "metadata": {
    "slideshow": {
     "slide_type": "subslide"
    }
   },
   "source": [
    "- Alternatively, use `from module import function` to import a specific function, or use `from module import *` to import all functions from the module. The latter option is not always recommended. The reason:\n",
    "```python\n",
    "from math import *\n",
    "from numpy import *\n",
    "deg = arange(12.) * 30.\n",
    "print(radians(deg))\n",
    "```\n",
    "vs.\n",
    "```python\n",
    "from numpy import *\n",
    "from math import *\n",
    "deg = arange(12.) * 30.\n",
    "print(radians(deg))\n",
    "```\n",
    "- You will get an error in the second case because `radians` in that case is `math.radians`, which does not allow a numpy array. "
   ]
  },
  {
   "cell_type": "code",
   "execution_count": 4,
   "metadata": {
    "slideshow": {
     "slide_type": "subslide"
    }
   },
   "outputs": [
    {
     "name": "stdout",
     "output_type": "stream",
     "text": [
      "[0.         0.52359878 1.04719755 1.57079633 2.0943951  2.61799388\n",
      " 3.14159265 3.66519143 4.1887902  4.71238898 5.23598776 5.75958653]\n"
     ]
    }
   ],
   "source": [
    "from math import *\n",
    "from numpy import *\n",
    "deg = arange(12.) * 30.\n",
    "print(radians(deg))"
   ]
  },
  {
   "cell_type": "markdown",
   "metadata": {
    "slideshow": {
     "slide_type": "subslide"
    }
   },
   "source": [
    "- `,` operator can be used to import multiple functions."
   ]
  },
  {
   "cell_type": "code",
   "execution_count": 5,
   "metadata": {
    "slideshow": {
     "slide_type": "-"
    }
   },
   "outputs": [
    {
     "name": "stdout",
     "output_type": "stream",
     "text": [
      "0.7853981633974483\n"
     ]
    }
   ],
   "source": [
    "from math import radians, sin, cos\n",
    "print(radians(45))"
   ]
  },
  {
   "cell_type": "markdown",
   "metadata": {
    "slideshow": {
     "slide_type": "subslide"
    }
   },
   "source": [
    "- A package contains modules, functions, etc. There are 1,274,332 packages (files) (as of 2018/04/29) in [PyPI](https://pypi.org/).\n",
    "- To install a package to your local machine, you can use either `pip install` or `conda install` in Command Prompt (for Windows)."
   ]
  },
  {
   "cell_type": "markdown",
   "metadata": {
    "slideshow": {
     "slide_type": "subslide"
    }
   },
   "source": [
    "- You can import a module/function from a package using `import package.module`, `from package import module` or even `from package import function`."
   ]
  },
  {
   "cell_type": "code",
   "execution_count": 1,
   "metadata": {
    "slideshow": {
     "slide_type": "-"
    }
   },
   "outputs": [],
   "source": [
    "from numpy import ndarray # ndarray is a function in the NumPy package."
   ]
  },
  {
   "cell_type": "markdown",
   "metadata": {
    "slideshow": {
     "slide_type": "slide"
    }
   },
   "source": [
    "## 7. If Statements\n",
    "- Python uses colons and indents for if statements."
   ]
  },
  {
   "cell_type": "code",
   "execution_count": 1,
   "metadata": {
    "slideshow": {
     "slide_type": "-"
    }
   },
   "outputs": [
    {
     "name": "stdout",
     "output_type": "stream",
     "text": [
      "World!\n"
     ]
    }
   ],
   "source": [
    "inp = \"Hello\"\n",
    "if inp == \"Hello\": \n",
    "    print(\"World!\") # indent + block"
   ]
  },
  {
   "cell_type": "markdown",
   "metadata": {
    "slideshow": {
     "slide_type": "subslide"
    }
   },
   "source": [
    "- If statements can be complex like this."
   ]
  },
  {
   "cell_type": "code",
   "execution_count": 3,
   "metadata": {
    "slideshow": {
     "slide_type": "-"
    }
   },
   "outputs": [
    {
     "name": "stdout",
     "output_type": "stream",
     "text": [
      "World!\n"
     ]
    }
   ],
   "source": [
    "inp = \"Hello\"\n",
    "if inp == \"Hell\":\n",
    "    print(\"No.\")\n",
    "else:\n",
    "    if inp == \"He\":\n",
    "        print(\"No.\")\n",
    "    else:\n",
    "        print(\"World!\")  "
   ]
  },
  {
   "cell_type": "markdown",
   "metadata": {
    "slideshow": {
     "slide_type": "subslide"
    }
   },
   "source": [
    "- The above example can be simplified by using `elif`."
   ]
  },
  {
   "cell_type": "code",
   "execution_count": null,
   "metadata": {
    "slideshow": {
     "slide_type": "-"
    }
   },
   "outputs": [],
   "source": [
    "inp = \"Hello\"\n",
    "if inp == \"Hell\":\n",
    "    print(\"No.\")\n",
    "elif inp == \"He\":\n",
    "    print(\"No.\")\n",
    "else:\n",
    "    print(\"World!\")"
   ]
  },
  {
   "cell_type": "markdown",
   "metadata": {
    "slideshow": {
     "slide_type": "subslide"
    }
   },
   "source": [
    "- Alternatively, you can even simplify them using a lambda function."
   ]
  },
  {
   "cell_type": "code",
   "execution_count": 3,
   "metadata": {
    "slideshow": {
     "slide_type": "-"
    }
   },
   "outputs": [
    {
     "name": "stdout",
     "output_type": "stream",
     "text": [
      "World!\n"
     ]
    }
   ],
   "source": [
    "myfunc = lambda inp: \"No.\" if inp == \"Hell\" else (\"No.\" if inp == \"He\" else \"World!\")\n",
    "print(myfunc(\"Hello\"))"
   ]
  },
  {
   "cell_type": "markdown",
   "metadata": {
    "slideshow": {
     "slide_type": "subslide"
    }
   },
   "source": [
    "- Relational operators include: `==`, `!=`, `>`, `<`, `>=`, and `<=`.\n",
    "- You can also combine them with `and`, `or`, `not`, and `in`."
   ]
  },
  {
   "cell_type": "code",
   "execution_count": 12,
   "metadata": {
    "slideshow": {
     "slide_type": "-"
    }
   },
   "outputs": [
    {
     "name": "stdout",
     "output_type": "stream",
     "text": [
      "2018!\n",
      "Not 2017!\n",
      "sam in mylist!\n",
      "lisa not in mylist!\n"
     ]
    }
   ],
   "source": [
    "year = 2018\n",
    "if year > 2017 and year < 2019:\n",
    "    print('2018!')\n",
    "\n",
    "year = \"2017\"\n",
    "if not year == 2017: # be careful about the type\n",
    "    print('Not 2017!')\n",
    "\n",
    "mylist = [\"sam\", 1.75, \"sara\", 1.82]\n",
    "if \"sam\" in mylist:\n",
    "    print(\"sam in mylist!\")\n",
    "\n",
    "if \"lisa\" not in mylist:\n",
    "    print(\"lisa not in mylist!\")"
   ]
  },
  {
   "cell_type": "markdown",
   "metadata": {
    "slideshow": {
     "slide_type": "subslide"
    }
   },
   "source": [
    "- The difference between `==` and `is` is that `==` tests for logical equality, while `is` tests for object identity.\n",
    "- For `None`, you should use `is`. That's the rule.\n",
    "<!-- see, https://www.python.org/dev/peps/pep-0008/#programming-recommendations -->"
   ]
  },
  {
   "cell_type": "code",
   "execution_count": 14,
   "metadata": {
    "slideshow": {
     "slide_type": "-"
    }
   },
   "outputs": [
    {
     "name": "stdout",
     "output_type": "stream",
     "text": [
      "False\n",
      "True\n",
      "True True\n",
      "False False\n",
      "False True\n",
      "True True\n"
     ]
    }
   ],
   "source": [
    "print(True is 1) # object identity\n",
    "print(True == 1) # logical equality\n",
    "x = 1 # immutable\n",
    "y = 1\n",
    "print(x is y, x == y)\n",
    "x = 2\n",
    "y = 5\n",
    "print(x is y, x == y)\n",
    "x = [1,2] # mutable\n",
    "y = [1,2]\n",
    "print(x is y, x == y)\n",
    "x = [1,2]\n",
    "y = x\n",
    "print(x is y, x == y)"
   ]
  },
  {
   "cell_type": "markdown",
   "metadata": {
    "slideshow": {
     "slide_type": "subslide"
    }
   },
   "source": [
    "- Make a function which returns the type of an input if the option is 1, and returns the input itself otherwise."
   ]
  },
  {
   "cell_type": "code",
   "execution_count": 16,
   "metadata": {
    "slideshow": {
     "slide_type": "-"
    }
   },
   "outputs": [
    {
     "ename": "SyntaxError",
     "evalue": "invalid syntax (<ipython-input-16-27891d14cf34>, line 1)",
     "output_type": "error",
     "traceback": [
      "\u001b[1;36m  File \u001b[1;32m\"<ipython-input-16-27891d14cf34>\"\u001b[1;36m, line \u001b[1;32m1\u001b[0m\n\u001b[1;33m    myfunc = lambda inp.opt:1 print(type(inp)) if inp==1 else print(inp)\u001b[0m\n\u001b[1;37m                       ^\u001b[0m\n\u001b[1;31mSyntaxError\u001b[0m\u001b[1;31m:\u001b[0m invalid syntax\n"
     ]
    }
   ],
   "source": [
    "myfunc = lambda inp.opt:1 print(type(inp)) if inp==1 else print(inp)"
   ]
  },
  {
   "cell_type": "markdown",
   "metadata": {
    "slideshow": {
     "slide_type": "slide"
    }
   },
   "source": [
    "## 8. Loops\n",
    "- You can use `for` or `while` for loops.\n",
    "- `for` loops often use `range()`."
   ]
  },
  {
   "cell_type": "code",
   "execution_count": 20,
   "metadata": {
    "slideshow": {
     "slide_type": "-"
    }
   },
   "outputs": [
    {
     "name": "stdout",
     "output_type": "stream",
     "text": [
      "--- loop to 9 ---\n",
      "Current number is  0\n",
      "Current number is  1\n",
      "Current number is  2\n",
      "Current number is  3\n",
      "Current number is  4\n",
      "Current number is  5\n",
      "Current number is  6\n",
      "Current number is  7\n",
      "Current number is  8\n",
      "Current number is  9\n",
      "--- loop from 1 to 4 ---\n",
      "Current number is  1\n",
      "Current number is  2\n",
      "Current number is  3\n",
      "Current number is  4\n",
      "--- loop from 2 to 7 by an increment of 2 ---\n",
      "Current number is  2\n",
      "Current number is  4\n",
      "Current number is  6\n",
      "Current number is  8\n"
     ]
    }
   ],
   "source": [
    "print(\"--- loop to 9 ---\")\n",
    "for item in range(10):\n",
    "    print(\"Current number is \",item)\n",
    "\n",
    "print(\"--- loop from 1 to 4 ---\")\n",
    "for item in range(1,5):\n",
    "    print(\"Current number is \", item)\n",
    "    \n",
    "print(\"--- loop from 2 to 8 by an increment of 2 ---\")\n",
    "for item in range(2,9,2):\n",
    "    print(\"Current number is \", item)"
   ]
  },
  {
   "cell_type": "markdown",
   "metadata": {
    "slideshow": {
     "slide_type": "subslide"
    }
   },
   "source": [
    "- You can also loop over strings, lists, dictionaries, and tuples."
   ]
  },
  {
   "cell_type": "code",
   "execution_count": 7,
   "metadata": {
    "slideshow": {
     "slide_type": "-"
    }
   },
   "outputs": [
    {
     "name": "stdout",
     "output_type": "stream",
     "text": [
      "--- loop over strings ---\n",
      "H\n",
      "e\n",
      "l\n",
      "l\n",
      "o\n",
      " \n",
      "W\n",
      "o\n",
      "r\n",
      "l\n",
      "d\n",
      "!\n",
      "--- loop over a list ---\n",
      "sam\n",
      "1.75\n",
      "sara\n",
      "1.82\n",
      "--- loop over a list of lists ---\n",
      "sam\n",
      "1.75\n",
      "sara\n",
      "1.82\n",
      "--- loop over a dictionary ---\n",
      "sam\n",
      "sara\n",
      "--- loop over a tuple ---\n",
      "1\n",
      "2\n",
      "3\n"
     ]
    }
   ],
   "source": [
    "print(\"--- loop over strings ---\")\n",
    "mystr = \"Hello World!\"\n",
    "for x in mystr:\n",
    "    print(x)\n",
    "\n",
    "print(\"--- loop over a list ---\")\n",
    "mylist = [\"sam\", 1.75, \"sara\", 1.82]\n",
    "for x in mylist:\n",
    "    print(x)\n",
    "\n",
    "print(\"--- loop over a list of lists ---\")\n",
    "mylist_of_lists = [[\"sam\", 1.75], [\"sara\", 1.82]]\n",
    "for mylist in mylist_of_lists:\n",
    "    for x in mylist:\n",
    "        print(x) \n",
    "\n",
    "print(\"--- loop over a dictionary ---\")        \n",
    "mydict = {\"sam\":1.75, \"sara\":1.82}\n",
    "for x in mydict:\n",
    "    print(x)\n",
    "    \n",
    "print(\"--- loop over a tuple ---\")        \n",
    "mytuple = (1, 2, 3)\n",
    "for x in mytuple:\n",
    "    print(x)"
   ]
  },
  {
   "cell_type": "markdown",
   "metadata": {
    "slideshow": {
     "slide_type": "subslide"
    }
   },
   "source": [
    "- Loops can be used inside a list."
   ]
  },
  {
   "cell_type": "code",
   "execution_count": 25,
   "metadata": {
    "slideshow": {
     "slide_type": "-"
    }
   },
   "outputs": [
    {
     "name": "stdout",
     "output_type": "stream",
     "text": [
      "[0, 1, 2, 3, 4, 5, 6, 7]\n"
     ]
    }
   ],
   "source": [
    "mylist = [x for x in range(8)]\n",
    "print(mylist)"
   ]
  },
  {
   "cell_type": "markdown",
   "metadata": {
    "slideshow": {
     "slide_type": "subslide"
    }
   },
   "source": [
    "- Make a loop inside a list to change an element in `mylist` to one if the element is zero."
   ]
  },
  {
   "cell_type": "code",
   "execution_count": 21,
   "metadata": {
    "slideshow": {
     "slide_type": "-"
    }
   },
   "outputs": [
    {
     "name": "stdout",
     "output_type": "stream",
     "text": [
      "[1, 2, 3, 4]\n",
      "Apple\n",
      "Asus\n",
      "Dell\n",
      "Samsung\n",
      "japan\n",
      "usa\n",
      "germany\n",
      "haiti\n",
      "france\n"
     ]
    }
   ],
   "source": [
    "mylist = [0, 2, 3, 4]\n",
    "mylist[0] = 1\n",
    "print(mylist)\n",
    "computer_brands = [\"Apple\", \"Asus\", \"Dell\", \"Samsung\"]\n",
    "for brands in computer_brands:\n",
    "    print(brands)\n",
    "developped_country = ['japan', 'usa', 'germany', 'haiti', 'france']\n",
    "for country in developped_country:\n",
    "    print(country)"
   ]
  },
  {
   "cell_type": "markdown",
   "metadata": {
    "slideshow": {
     "slide_type": "subslide"
    }
   },
   "source": [
    "- To append elements in a list, use `append()` in a loop."
   ]
  },
  {
   "cell_type": "code",
   "execution_count": null,
   "metadata": {
    "slideshow": {
     "slide_type": "-"
    }
   },
   "outputs": [],
   "source": [
    "z = []\n",
    "for i in range(0,10):\n",
    "    z.append(i)\n",
    "print(z)\n",
    "for i in range(1,10):\n",
    "    if i == 3:\n",
    "        break\n",
    "    print(i)\n",
    "for i in range(1,10):\n",
    "    if i == 3:\n",
    "        continue\n",
    "    print(i)"
   ]
  },
  {
   "cell_type": "markdown",
   "metadata": {
    "slideshow": {
     "slide_type": "subslide"
    }
   },
   "source": [
    "- You may often use `break` and `continue` in a `while` loop.\n",
    "    - `break` means that you will exit the current loop.\n",
    "    - `continue` means that you will go back to the start of the current loop."
   ]
  },
  {
   "cell_type": "code",
   "execution_count": null,
   "metadata": {
    "slideshow": {
     "slide_type": "-"
    }
   },
   "outputs": [],
   "source": [
    "print(\"--- a loop till 10 ---\")\n",
    "cnt = 0\n",
    "while cnt < 10:\n",
    "    print(cnt)\n",
    "    cnt += 1 # same as cnt = cnt + 1.\n",
    "\n",
    "print(\"--- a loop till 10 except 5 ---\")\n",
    "cnt = 0\n",
    "while cnt < 10:\n",
    "    cnt += 1\n",
    "    if cnt == 5:\n",
    "        continue\n",
    "    print(cnt)\n",
    "\n",
    "print(\"--- a loop till 5 ---\")    \n",
    "cnt = 0\n",
    "while cnt < 10:\n",
    "    print(cnt)\n",
    "    cnt += 1\n",
    "    if cnt > 5:\n",
    "        break"
   ]
  },
  {
   "cell_type": "markdown",
   "metadata": {
    "slideshow": {
     "slide_type": "subslide"
    }
   },
   "source": [
    "- For infinite loops, use `while True`."
   ]
  },
  {
   "cell_type": "code",
   "execution_count": null,
   "metadata": {
    "slideshow": {
     "slide_type": "-"
    }
   },
   "outputs": [],
   "source": [
    "print(\"--- infinite loop till 10 ---\")\n",
    "cnt = 0\n",
    "while True:\n",
    "    print(cnt)\n",
    "    cnt += 1\n",
    "    if cnt > 10:\n",
    "        break      "
   ]
  },
  {
   "cell_type": "markdown",
   "metadata": {
    "slideshow": {
     "slide_type": "subslide"
    }
   },
   "source": [
    "- Make a function which returns \"Five!\" when the input is 5, and \".\" otherwise. Then use that function in a loop ranging from 1 to 9."
   ]
  },
  {
   "cell_type": "code",
   "execution_count": 3,
   "metadata": {
    "slideshow": {
     "slide_type": "-"
    }
   },
   "outputs": [
    {
     "ename": "SyntaxError",
     "evalue": "invalid syntax (<ipython-input-3-a9718ceefa77>, line 1)",
     "output_type": "error",
     "traceback": [
      "\u001b[1;36m  File \u001b[1;32m\"<ipython-input-3-a9718ceefa77>\"\u001b[1;36m, line \u001b[1;32m1\u001b[0m\n\u001b[1;33m    myfunct = lambda x:\"five!\" if x == 5\u001b[0m\n\u001b[1;37m                                         ^\u001b[0m\n\u001b[1;31mSyntaxError\u001b[0m\u001b[1;31m:\u001b[0m invalid syntax\n"
     ]
    }
   ],
   "source": [
    "myfunct = lambda x:\"five!\" if x == 5 \n",
    "else:\n",
    "for x in a range(1,9):\n",
    "    print(myfive(x))"
   ]
  },
  {
   "cell_type": "markdown",
   "metadata": {
    "slideshow": {
     "slide_type": "slide"
    }
   },
   "source": [
    "## 9. NumPy\n",
    "- NumPy (numeric python) is the foundamental package for numerical computation in Python."
   ]
  },
  {
   "cell_type": "code",
   "execution_count": 6,
   "metadata": {
    "slideshow": {
     "slide_type": "-"
    }
   },
   "outputs": [],
   "source": [
    "import numpy as np"
   ]
  },
  {
   "cell_type": "markdown",
   "metadata": {
    "slideshow": {
     "slide_type": "subslide"
    }
   },
   "source": [
    "- Recall that lists do not allow element-by-element calculation.\n",
    "- Such calculation is possible for NumPy arrays.\n",
    "- Calculate bmi using \n",
    "```python\n",
    "bmi = weight / height ** 2\n",
    "print(bmi)\n",
    "```\n",
    "- Then do the same using `np_height` and `np_weight`."
   ]
  },
  {
   "cell_type": "code",
   "execution_count": 6,
   "metadata": {
    "slideshow": {
     "slide_type": "-"
    }
   },
   "outputs": [
    {
     "name": "stdout",
     "output_type": "stream",
     "text": [
      "[24.69135802 24.21229339 22.30814991]\n"
     ]
    }
   ],
   "source": [
    "height = [1.80, 1.76, 1.64] \n",
    "weight = [80, 75, 60]\n",
    "np_height = np.array(height) # convert height to a NumPy array (use ?np.array to get a help file)\n",
    "np_weight = np.array(weight)\n",
    "bmi = np_weight / np_height**2\n",
    "print(bmi)"
   ]
  },
  {
   "cell_type": "markdown",
   "metadata": {
    "slideshow": {
     "slide_type": "subslide"
    }
   },
   "source": [
    "- `+` operator adds elements to a list for lists, while it calculates the sum of each element in an array for NumPy arrays.\n",
    "- Try:\n",
    "```python\n",
    "print(height + weight)\n",
    "print(np_height + np_weight)\n",
    "```"
   ]
  },
  {
   "cell_type": "code",
   "execution_count": 9,
   "metadata": {
    "slideshow": {
     "slide_type": "-"
    }
   },
   "outputs": [
    {
     "name": "stdout",
     "output_type": "stream",
     "text": [
      "[81.8  76.76 61.64]\n",
      "[1.8, 1.76, 1.64, 80, 75, 60]\n"
     ]
    }
   ],
   "source": [
    "height = [1.80, 1.76, 1.64] \n",
    "weight = [80, 75, 60]\n",
    "np_height = np.array(height) \n",
    "np_weight = np.array(weight)\n",
    "print(np_height + np_weight)\n",
    "print(height + weight)"
   ]
  },
  {
   "cell_type": "markdown",
   "metadata": {
    "slideshow": {
     "slide_type": "subslide"
    }
   },
   "source": [
    "- A NumPy array can contain only one type. If there are multiple types, they are converted to a single type.\n",
    "- Types are ordered: strings > floats > integers > booleans\n",
    "- Check the type of the first element in `myarray1`, `myarray2`, and `myarray3`."
   ]
  },
  {
   "cell_type": "code",
   "execution_count": 17,
   "metadata": {
    "slideshow": {
     "slide_type": "-"
    }
   },
   "outputs": [
    {
     "name": "stdout",
     "output_type": "stream",
     "text": [
      "<class 'numpy.str_'>\n",
      "<class 'numpy.float64'>\n"
     ]
    }
   ],
   "source": [
    "myarray1 = np.array([1, 1.0, \"1\", True]) # a list contains four types\n",
    "myarray2 = np.array([1, 1.0, True]) # three types\n",
    "myarray3 = np.array([1, True]) # two types\n",
    "print(type(myarray1[0]))\n",
    "print(type(myarray2[0]))"
   ]
  },
  {
   "cell_type": "markdown",
   "metadata": {
    "slideshow": {
     "slide_type": "subslide"
    }
   },
   "source": [
    "- NumPy arrays can be more than one dimensional.\n",
    "    - You can check the number of dimensions of an array using `np.ndim(myarray)` and the shape of an array using `np.shape(myarray)`.\n",
    "    - You can also use `ndim` and `shape` as a method like `myarray.ndim` and `myarray.shape`. They are attributes to instances.\n",
    "- Two dimensional NumPy arrays are also called 2D NumPy arrays.\n",
    "- Print the number of dimensions and the shape of `np_2d` and `np_3d`.\n",
    "    - Try both `np.ndim(myarray)` and `myarray.ndim`."
   ]
  },
  {
   "cell_type": "code",
   "execution_count": 15,
   "metadata": {
    "slideshow": {
     "slide_type": "-"
    }
   },
   "outputs": [
    {
     "name": "stdout",
     "output_type": "stream",
     "text": [
      "2\n",
      "3\n",
      "2\n"
     ]
    }
   ],
   "source": [
    "np_2d = np.array([[1,2,3],[4,5,6]])\n",
    "np_3d = np.array([[[1,2,3],[4,5,6]],[[7,8,9],[10,11,12]]])\n",
    "print(np.ndim(np_2d))\n",
    "print(np.ndim(np_3d))\n",
    "print(np_2d.ndim)"
   ]
  },
  {
   "cell_type": "markdown",
   "metadata": {
    "slideshow": {
     "slide_type": "subslide"
    }
   },
   "source": [
    "- To access each element, use `myarray[]`, `myarray[][]`, etc.\n",
    "    - You can also use `myarray[,]`.\n",
    "- Get the second element in the first array in `np_2d`.\n",
    "    - Try both `myarray[][]` and `myarray[,]`."
   ]
  },
  {
   "cell_type": "code",
   "execution_count": 16,
   "metadata": {
    "slideshow": {
     "slide_type": "-"
    }
   },
   "outputs": [
    {
     "name": "stdout",
     "output_type": "stream",
     "text": [
      "2\n",
      "2\n"
     ]
    }
   ],
   "source": [
    "np_2d = np.array([[1,2,3],[4,5,6]])\n",
    "print(np_2d[0][1])\n",
    "print(np_2d[0,1])"
   ]
  },
  {
   "cell_type": "markdown",
   "metadata": {
    "slideshow": {
     "slide_type": "subslide"
    }
   },
   "source": [
    "- Useful functions include: `mean()`, `median()`, `std()`, `sum()`, `zeros()`, `ones()`, `round()`, `corrcoef()`."
   ]
  },
  {
   "cell_type": "code",
   "execution_count": 17,
   "metadata": {
    "slideshow": {
     "slide_type": "-"
    }
   },
   "outputs": [
    {
     "name": "stdout",
     "output_type": "stream",
     "text": [
      "3.5\n",
      "2.5\n",
      "2.0\n",
      "[[[0. 0. 0. 0.]\n",
      "  [0. 0. 0. 0.]\n",
      "  [0. 0. 0. 0.]]\n",
      "\n",
      " [[0. 0. 0. 0.]\n",
      "  [0. 0. 0. 0.]\n",
      "  [0. 0. 0. 0.]]]\n",
      "male median heights:  190.0  female median heights:  165.0\n",
      "[1.63 1.72 1.85 1.61 1.58 1.63 1.67 1.96 1.58 1.64 1.88 1.61 1.65 1.73\n",
      " 1.67 2.07 1.85 1.63 1.85 1.55 1.53 1.38 2.13 1.93 1.88 1.84 1.78 1.69\n",
      " 1.75 1.51 1.83 1.52 1.89 1.66 1.47 1.44 1.35 2.05 2.01 1.86 1.64 1.6\n",
      " 1.97 1.67 1.69 1.61 1.86 1.7  2.14 1.72]\n",
      "[ 88.8   77.52  45.64  49.31  74.36  74.4   58.48  65.82  31.18  39.02\n",
      "  62.01  29.84  60.06  80.28  72.48  80.89  61.61  80.93 113.71  62.49\n",
      "  65.09  94.61  81.54  61.18  46.74  80.87  74.23  81.88  89.    46.94\n",
      "  76.33  84.22  55.19  71.73  64.1   47.75  51.84  61.14  45.04  57.\n",
      "  86.3   53.65  48.71  61.89  77.52  98.03  73.85  47.62  47.3   60.37]\n",
      "[[ 1.         -0.01155242]\n",
      " [-0.01155242  1.        ]]\n"
     ]
    }
   ],
   "source": [
    "list_2d = [[1,2,3],[4,5,6]]\n",
    "np_2d = np.array(list_2d)\n",
    "print(np.mean(np_2d)) # mean of all elements\n",
    "print(np.mean(np_2d[:,0])) # mean of first column [1,4]\n",
    "print(np.mean(np_2d[0,:])) # mean of first row [1,2,3]\n",
    "\n",
    "myzeros = np.zeros((2, 3, 4)) # make an array with zeros\n",
    "print(myzeros)\n",
    "\n",
    "np_gender = np.array([\"male\",\"female\",\"male\",\"male\",\"female\"])\n",
    "np_heights = np.array([191,160,185,190,170])\n",
    "np_median_mheights = np.median(np_heights[np_gender == \"male\"]) # median of male heights\n",
    "np_median_fheights = np.median(np_heights[np_gender == \"female\"]) # median of female heights\n",
    "print(\"male median heights: \", np_median_mheights, \" female median heights: \", np_median_fheights)\n",
    "\n",
    "x = np.round(np.random.normal(1.75,0.20,50),2) # generate random values with mean = 1.75, std = 0.20, obs.= 50 and round them to two decimal places.\n",
    "y = np.round(np.random.normal(65.32,15.0,50),2)\n",
    "print(x)\n",
    "print(y)\n",
    "print(np.corrcoef(x,y)) # correlation of x and y"
   ]
  },
  {
   "cell_type": "markdown",
   "metadata": {
    "slideshow": {
     "slide_type": "subslide"
    }
   },
   "source": [
    "- Some NumPy functions such as `np.sum()` are faster than generic functions such as `sum()` if data are already a NumPy array."
   ]
  },
  {
   "cell_type": "code",
   "execution_count": 18,
   "metadata": {
    "slideshow": {
     "slide_type": "-"
    }
   },
   "outputs": [
    {
     "name": "stdout",
     "output_type": "stream",
     "text": [
      "21\n",
      "21\n",
      "21\n"
     ]
    }
   ],
   "source": [
    "list_2d = [[1,2,3],[4,5,6]]\n",
    "np_2d = np.array(list_2d)\n",
    "print(np.sum(np_2d)) # sum of all elements using NumPy sum()\n",
    "print(np.sum(list_2d))  # you can apply NumPy sum() for lists (not recommended)\n",
    "print(sum([sum(x) for x in list_2d])) # sum of all elements using generic sum()"
   ]
  },
  {
   "cell_type": "markdown",
   "metadata": {
    "slideshow": {
     "slide_type": "slide"
    }
   },
   "source": [
    "## 10. pandas\n",
    "- pandas is a very useful Python package made for handling data. It's built on NumPy.\n",
    "- (pandas should have already beeen installed when you have installed Python using Anaconda. If not, open Command Prompt, then type `pip3 install pandas` (for Python 3) or `pip install pandas` (for Python 2) to manually install pandas. For Anaconda users, use `conda install pandas` for installing and updating pandas."
   ]
  },
  {
   "cell_type": "code",
   "execution_count": 1,
   "metadata": {
    "slideshow": {
     "slide_type": "-"
    }
   },
   "outputs": [],
   "source": [
    "import pandas as pd"
   ]
  },
  {
   "cell_type": "markdown",
   "metadata": {
    "slideshow": {
     "slide_type": "subslide"
    }
   },
   "source": [
    "- You can import csv data (i.e., comma separated data) using `pd.read_table()`. This function automatically set the data type as pandas DataFrame.\n",
    "    - Be sure to include `sep=','` for csv files. Default is `sep=\\t`.\n",
    "    - For tsv data (i.e., tab separated data), do not need to include any `sep` option. If you want, you can write `sep='\\t'` (where `\\` is a backslash).\n",
    "    - If you add `index_col = 0` option, pandas recognizes that the first column is an index (identifier)."
   ]
  },
  {
   "cell_type": "markdown",
   "metadata": {
    "slideshow": {
     "slide_type": "subslide"
    }
   },
   "source": [
    "- The following commands read `cars.csv` and `cars.txt` stored in your local repository.\n",
    "    - If your data are stored in another place, you need to specify the path."
   ]
  },
  {
   "cell_type": "code",
   "execution_count": 8,
   "metadata": {
    "slideshow": {
     "slide_type": "-"
    }
   },
   "outputs": [
    {
     "name": "stdout",
     "output_type": "stream",
     "text": [
      "    id  cars_per_cap        country  drives_right\n",
      "0   US           809  United States          True\n",
      "1  AUS           731      Australia         False\n",
      "2  JAP           588          Japan         False\n",
      "3   IN            18          India         False\n",
      "4   RU           200         Russia          True\n",
      "5  MOR            70        Morocco          True\n",
      "6   EG            45          Egypt          True\n",
      "<class 'pandas.core.frame.DataFrame'>\n",
      "     cars_per_cap        country  drives_right\n",
      "id                                            \n",
      "US            809  United States          True\n",
      "AUS           731      Australia         False\n",
      "JAP           588          Japan         False\n",
      "IN             18          India         False\n",
      "RU            200         Russia          True\n",
      "MOR            70        Morocco          True\n",
      "EG             45          Egypt          True\n",
      "     cars_per_cap        country  drives_right\n",
      "id                                            \n",
      "US            809  United States          True\n",
      "AUS           731      Australia         False\n",
      "JAP           588          Japan         False\n",
      "IN             18          India         False\n",
      "RU            200         Russia          True\n",
      "MOR            70        Morocco          True\n",
      "EG             45          Egypt          True\n"
     ]
    }
   ],
   "source": [
    "mycars = pd.read_table('cars.csv', sep=',')\n",
    "print(mycars)\n",
    "print(type(mycars))\n",
    "mycars = pd.read_csv('cars.csv', sep=',', index_col = 0)\n",
    "print(mycars)\n",
    "mycars = pd.read_table('cars.txt', index_col = 0)\n",
    "print(mycars)"
   ]
  },
  {
   "cell_type": "markdown",
   "metadata": {
    "slideshow": {
     "slide_type": "subslide"
    }
   },
   "source": [
    "- To get the index, use `df.index` or `df.index.values`.\n",
    "    - To check whether the index is unique, use `df.index.is_unique`.\n",
    "- To get column names, use `df.columns`.\n",
    "- To show values as a NumPy ndarray, use `df.values`.\n",
    "- Get the index and column names of `mycars`. Check whether the index is unique.\n",
    "- Check whether column names of `mycars` include \"country\"."
   ]
  },
  {
   "cell_type": "code",
   "execution_count": 4,
   "metadata": {
    "slideshow": {
     "slide_type": "-"
    }
   },
   "outputs": [
    {
     "name": "stdout",
     "output_type": "stream",
     "text": [
      "Index(['US', 'AUS', 'JAP', 'IN', 'RU', 'MOR', 'EG'], dtype='object', name='id')\n",
      "Index(['cars_per_cap', 'country', 'drives_right'], dtype='object')\n",
      "False\n",
      "True\n",
      "[[809 'United States' True]\n",
      " [731 'Australia' False]\n",
      " [588 'Japan' False]\n",
      " [18 'India' False]\n",
      " [200 'Russia' True]\n",
      " [70 'Morocco' True]\n",
      " [45 'Egypt' True]]\n"
     ]
    }
   ],
   "source": [
    "mycars = pd.read_table('cars.csv', sep=',', index_col = 0)\n",
    "print(mycars.index)\n",
    "print(mycars.columns)\n",
    "print(\"county\" in mycars.columns)\n",
    "print(mycars.index.is_unique)\n",
    "print(mycars.values)"
   ]
  },
  {
   "cell_type": "markdown",
   "metadata": {
    "slideshow": {
     "slide_type": "subslide"
    }
   },
   "source": [
    "- To check whether a column or the index contains duplicated values, use `df.duplicated()`.\n",
    "    - It's useful to combine it with `.any()` as `df.duplicated().any()`.\n",
    "- Check whether the index of `mycars` contains any duplicated values.\n",
    "- Check whether the country column of `mycars` contains any duplicated values."
   ]
  },
  {
   "cell_type": "code",
   "execution_count": 11,
   "metadata": {
    "slideshow": {
     "slide_type": "-"
    }
   },
   "outputs": [
    {
     "name": "stdout",
     "output_type": "stream",
     "text": [
      "False\n"
     ]
    }
   ],
   "source": [
    "mycars = pd.read_table('cars.csv', sep=',', index_col = 0)\n",
    "print(mycars[\"country\"].duplicated().any())"
   ]
  },
  {
   "cell_type": "markdown",
   "metadata": {
    "slideshow": {
     "slide_type": "subslide"
    }
   },
   "source": [
    "- To get unique values, use `df.unique()`.\n",
    "    - This is different from `df.is_unique()`, which returns a boolean.\n",
    "- Get unique values in the country column of `mycars`."
   ]
  },
  {
   "cell_type": "code",
   "execution_count": 27,
   "metadata": {
    "slideshow": {
     "slide_type": "-"
    }
   },
   "outputs": [],
   "source": [
    "mycars = pd.read_table('cars.csv', sep=',', index_col = 0)"
   ]
  },
  {
   "cell_type": "markdown",
   "metadata": {
    "slideshow": {
     "slide_type": "subslide"
    }
   },
   "source": [
    "### - Get elements\n",
    "- To access each element, you can use `df[]`.\n",
    "    - To slice rows, use `df[:]`.\n",
    "    - However, you cannot use `df[:]` for columns!!!\n",
    "- Instead, you can directly write like `df.column_name`.    \n",
    "- `df[]` and `df[[]]` are different.\n",
    "    - `df[]` returns pandas Series (1D)\n",
    "    - `df[[]]` returns pandas DataFrame (2D, a dict-like container for Series objects)"
   ]
  },
  {
   "cell_type": "code",
   "execution_count": 31,
   "metadata": {
    "slideshow": {
     "slide_type": "subslide"
    }
   },
   "outputs": [
    {
     "name": "stdout",
     "output_type": "stream",
     "text": [
      "id\n",
      "US     United States\n",
      "AUS        Australia\n",
      "JAP            Japan\n",
      "IN             India\n",
      "RU            Russia\n",
      "MOR          Morocco\n",
      "EG             Egypt\n",
      "Name: country, dtype: object\n",
      "id\n",
      "US     United States\n",
      "AUS        Australia\n",
      "JAP            Japan\n",
      "IN             India\n",
      "RU            Russia\n",
      "MOR          Morocco\n",
      "EG             Egypt\n",
      "Name: country, dtype: object\n",
      "           country\n",
      "id                \n",
      "US   United States\n",
      "AUS      Australia\n",
      "JAP          Japan\n",
      "IN           India\n",
      "RU          Russia\n",
      "MOR        Morocco\n",
      "EG           Egypt\n",
      "<class 'pandas.core.series.Series'>\n",
      "<class 'pandas.core.frame.DataFrame'>\n",
      "           country  drives_right\n",
      "id                              \n",
      "US   United States          True\n",
      "AUS      Australia         False\n",
      "JAP          Japan         False\n",
      "IN           India         False\n",
      "RU          Russia          True\n",
      "MOR        Morocco          True\n",
      "EG           Egypt          True\n",
      "     cars_per_cap        country  drives_right\n",
      "id                                            \n",
      "US            809  United States          True\n",
      "AUS           731      Australia         False\n"
     ]
    }
   ],
   "source": [
    "mycars = pd.read_table('cars.csv', sep=',', index_col = 0)\n",
    "# get columns\n",
    "print(mycars['country']) \n",
    "print(mycars.country) \n",
    "print(mycars[['country']])\n",
    "print(type(mycars['country']))\n",
    "print(type(mycars[['country']]))\n",
    "print(mycars[['country','drives_right']]) # get two columns\n",
    "# print(mycars['country','drives_right']) # this returns an error\n",
    "# get rows\n",
    "print(mycars[0:2])"
   ]
  },
  {
   "cell_type": "markdown",
   "metadata": {
    "slideshow": {
     "slide_type": "subslide"
    }
   },
   "source": [
    "- To get first few rows and last few rows easily, use `df.head` and `df.tail`, respectively."
   ]
  },
  {
   "cell_type": "code",
   "execution_count": 30,
   "metadata": {
    "slideshow": {
     "slide_type": "-"
    }
   },
   "outputs": [
    {
     "name": "stdout",
     "output_type": "stream",
     "text": [
      "     cars_per_cap        country  drives_right\n",
      "id                                            \n",
      "US            809  United States          True\n",
      "AUS           731      Australia         False\n",
      "JAP           588          Japan         False\n",
      "IN             18          India         False\n",
      "RU            200         Russia          True\n",
      "MOR            70        Morocco          True\n",
      "EG             45          Egypt          True\n",
      "     cars_per_cap        country  drives_right\n",
      "id                                            \n",
      "US            809  United States          True\n",
      "AUS           731      Australia         False\n",
      "     cars_per_cap  country  drives_right\n",
      "id                                      \n",
      "MOR            70  Morocco          True\n",
      "EG             45    Egypt          True\n"
     ]
    }
   ],
   "source": [
    "mycars = pd.read_table('cars.csv', sep=',', index_col = 0)\n",
    "print(mycars)\n",
    "print(mycars.head(2)) # first 2 rows\n",
    "print(mycars.tail(2)) # last 2 rows"
   ]
  },
  {
   "cell_type": "markdown",
   "metadata": {
    "slideshow": {
     "slide_type": "subslide"
    }
   },
   "source": [
    "- You can use operators like `==`, `>` and `<=` for conditions."
   ]
  },
  {
   "cell_type": "code",
   "execution_count": 34,
   "metadata": {
    "slideshow": {
     "slide_type": "-"
    }
   },
   "outputs": [
    {
     "name": "stdout",
     "output_type": "stream",
     "text": [
      "     cars_per_cap    country  drives_right\n",
      "id                                        \n",
      "AUS           731  Australia         False\n",
      "     cars_per_cap country  drives_right\n",
      "id                                     \n",
      "JAP           588   Japan         False\n"
     ]
    }
   ],
   "source": [
    "mycars = pd.read_table('cars.csv', sep=',', index_col = 0)\n",
    "print(mycars[mycars['country'] == \"Australia\"])\n",
    "print(mycars[mycars['country'] == \"Japan\"])"
   ]
  },
  {
   "cell_type": "markdown",
   "metadata": {
    "slideshow": {
     "slide_type": "subslide"
    }
   },
   "source": [
    "- Useful indexers for selection are `loc` and `iloc`.\n",
    "    - `loc` uses indices.\n",
    "    - `iloc` uses integers.\n",
    "- For selecting a row, use `loc[]` or `loc[[]]` (`iloc[]` or `iloc[[]]`). You get Series and DataFrame, respectively.\n",
    "- For selecting a column, use `loc[:,[]]` (`iloc[:,[]]`).\n",
    "- With these indexers, operation gets similar to what you usually do in R."
   ]
  },
  {
   "cell_type": "code",
   "execution_count": 90,
   "metadata": {
    "slideshow": {
     "slide_type": "subslide"
    }
   },
   "outputs": [
    {
     "name": "stdout",
     "output_type": "stream",
     "text": [
      "     cars_per_cap        country  drives_right\n",
      "id                                            \n",
      "US            809  United States          True\n",
      "AUS           731      Australia         False\n",
      "JAP           588          Japan         False\n",
      "IN             18          India         False\n",
      "RU            200         Russia          True\n",
      "MOR            70        Morocco          True\n",
      "EG             45          Egypt          True\n",
      "cars_per_cap       200\n",
      "country         Russia\n",
      "drives_right      True\n",
      "Name: RU, dtype: object\n",
      "    cars_per_cap country  drives_right\n",
      "id                                    \n",
      "RU           200  Russia          True\n",
      "<class 'pandas.core.series.Series'>\n",
      "<class 'pandas.core.frame.DataFrame'>\n",
      "           country  drives_right\n",
      "id                              \n",
      "US   United States          True\n",
      "AUS      Australia         False\n",
      "JAP          Japan         False\n",
      "IN           India         False\n",
      "RU          Russia          True\n",
      "MOR        Morocco          True\n",
      "EG           Egypt          True\n"
     ]
    }
   ],
   "source": [
    "mycars = pd.read_table('cars.csv', sep=',', index_col = 0)\n",
    "print(mycars)\n",
    "# select rows\n",
    "print(mycars.loc['RU'])\n",
    "print(mycars.loc[['RU']])\n",
    "print(type(mycars.loc['RU']))\n",
    "print(type(mycars.loc[['RU']]))\n",
    "#print(mycars.iloc[[4]])\n",
    "\n",
    "# select columns\n",
    "#print(mycars.loc[:,['country']])\n",
    "#print(mycars.loc[:,['country','drives_right']]) # select more than one column\n",
    "print(mycars.iloc[:,[1,2]])\n",
    "\n",
    "# select rows and columns\n",
    "#print(mycars.loc[['RU'],['country','drives_right']])\n",
    "#print(mycars.iloc[[4],[1]])\n",
    "#print(mycars.loc[:,['cars_per_cap']])"
   ]
  },
  {
   "cell_type": "markdown",
   "metadata": {
    "slideshow": {
     "slide_type": "subslide"
    }
   },
   "source": [
    " - If you combine these methods, you can incorporate more advanced conditions to show elements.\n",
    "     - You can also use `df.query()` for subsetting rows.\n",
    "     - You can also use `df.filter()` for subsetting columns and rows."
   ]
  },
  {
   "cell_type": "code",
   "execution_count": 89,
   "metadata": {
    "slideshow": {
     "slide_type": "-"
    }
   },
   "outputs": [
    {
     "data": {
      "text/html": [
       "<div>\n",
       "<style scoped>\n",
       "    .dataframe tbody tr th:only-of-type {\n",
       "        vertical-align: middle;\n",
       "    }\n",
       "\n",
       "    .dataframe tbody tr th {\n",
       "        vertical-align: top;\n",
       "    }\n",
       "\n",
       "    .dataframe thead th {\n",
       "        text-align: right;\n",
       "    }\n",
       "</style>\n",
       "<table border=\"1\" class=\"dataframe\">\n",
       "  <thead>\n",
       "    <tr style=\"text-align: right;\">\n",
       "      <th></th>\n",
       "      <th>cars_per_cap</th>\n",
       "      <th>drives_right</th>\n",
       "    </tr>\n",
       "    <tr>\n",
       "      <th>id</th>\n",
       "      <th></th>\n",
       "      <th></th>\n",
       "    </tr>\n",
       "  </thead>\n",
       "  <tbody>\n",
       "    <tr>\n",
       "      <th>US</th>\n",
       "      <td>809</td>\n",
       "      <td>True</td>\n",
       "    </tr>\n",
       "    <tr>\n",
       "      <th>AUS</th>\n",
       "      <td>731</td>\n",
       "      <td>False</td>\n",
       "    </tr>\n",
       "    <tr>\n",
       "      <th>JAP</th>\n",
       "      <td>588</td>\n",
       "      <td>False</td>\n",
       "    </tr>\n",
       "    <tr>\n",
       "      <th>IN</th>\n",
       "      <td>18</td>\n",
       "      <td>False</td>\n",
       "    </tr>\n",
       "    <tr>\n",
       "      <th>RU</th>\n",
       "      <td>200</td>\n",
       "      <td>True</td>\n",
       "    </tr>\n",
       "    <tr>\n",
       "      <th>MOR</th>\n",
       "      <td>70</td>\n",
       "      <td>True</td>\n",
       "    </tr>\n",
       "    <tr>\n",
       "      <th>EG</th>\n",
       "      <td>45</td>\n",
       "      <td>True</td>\n",
       "    </tr>\n",
       "  </tbody>\n",
       "</table>\n",
       "</div>"
      ],
      "text/plain": [
       "     cars_per_cap  drives_right\n",
       "id                             \n",
       "US            809          True\n",
       "AUS           731         False\n",
       "JAP           588         False\n",
       "IN             18         False\n",
       "RU            200          True\n",
       "MOR            70          True\n",
       "EG             45          True"
      ]
     },
     "execution_count": 89,
     "metadata": {},
     "output_type": "execute_result"
    }
   ],
   "source": [
    "mycars = pd.read_table('cars.csv', sep=',', index_col = 0)\n",
    "# subsetting rows\n",
    "#print(mycars.loc[(mycars['cars_per_cap'] > 600) & (mycars['drives_right'] == True), 'country']) \n",
    "# show the names of countries which satisfy the condition\n",
    "#print(mycars.query(\"cars_per_cap > 600 & drives_right == True\").country)  # using pandas' query\n",
    "# subsetting columns\n",
    "#print(mycars.loc[:,((mycars.columns != 'drives_right') & (mycars.columns != 'country'))])\n",
    "drops = ['drives_right','country']\n",
    "#print(mycars.loc[:,(x for x in mycars.columns if x not in drops)]) # using an if-statement\n",
    "keeps = ['drives_right','country']\n",
    "#print(mycars.filter(keeps))# using pandas'filter\n",
    "mycars.drop(['drives_right', 'cars_per_cap'], axis = 1)\n",
    "mycars.drop(columns = ['country'])"
   ]
  },
  {
   "cell_type": "markdown",
   "metadata": {
    "slideshow": {
     "slide_type": "subslide"
    }
   },
   "source": [
    "### - Change contents\n",
    "- Delete a column/row:\n",
    "    - Deletion is an option. Getting a subset is another option.\n",
    "    - To delete a column, use `del()` or `df.drop( , axis=1)`. (`axis=1` for deleting columns. `axis=0` is default.)\n",
    "    - To delete a row, use `df.drop()`.\n",
    "- Delete \"cars_per_cap\" in `mycars` using `del()`.\n",
    "- Delete the \"country\" column in `mycars` using `df.drop( , axis=1)`.\n",
    "- Delete the \"US\" row in `mycars` using `df.drop()`."
   ]
  },
  {
   "cell_type": "code",
   "execution_count": 8,
   "metadata": {
    "slideshow": {
     "slide_type": "-"
    }
   },
   "outputs": [],
   "source": [
    "import pandas as pd\n",
    "import numpy as np\n",
    "mycars = pd.read_table('cars.csv', sep=',', index_col = 0)\n",
    "#del(mycars['cars_per_capita'])\n"
   ]
  },
  {
   "cell_type": "code",
   "execution_count": 4,
   "metadata": {},
   "outputs": [
    {
     "name": "stdout",
     "output_type": "stream",
     "text": [
      "     cars_per_cap  drives_right\n",
      "id                             \n",
      "US            809          True\n",
      "AUS           731         False\n",
      "JAP           588         False\n",
      "IN             18         False\n",
      "RU            200          True\n",
      "MOR            70          True\n",
      "EG             45          True\n"
     ]
    }
   ],
   "source": [
    "del(mycars['country'])\n",
    "print(mycars)"
   ]
  },
  {
   "cell_type": "markdown",
   "metadata": {
    "slideshow": {
     "slide_type": "subslide"
    }
   },
   "source": [
    "- Add a new column with values, use `df['colname'] = values`."
   ]
  },
  {
   "cell_type": "code",
   "execution_count": 94,
   "metadata": {
    "slideshow": {
     "slide_type": "-"
    }
   },
   "outputs": [
    {
     "name": "stdout",
     "output_type": "stream",
     "text": [
      "     cars_per_cap        country  drives_right  GDP\n",
      "id                                                 \n",
      "US            809  United States          True    1\n",
      "AUS           731      Australia         False    2\n",
      "JAP           588          Japan         False    3\n",
      "IN             18          India         False    4\n",
      "RU            200         Russia          True    5\n",
      "MOR            70        Morocco          True    6\n",
      "EG             45          Egypt          True    7\n"
     ]
    }
   ],
   "source": [
    "mycars = pd.read_table('cars.csv', sep=',', index_col = 0)\n",
    "#mycars['one'] = 1\n",
    "#print(mycars)\n",
    "mycars['GDP'] = [1, 2, 3, 4, 5, 6,7]\n",
    "print(mycars)"
   ]
  },
  {
   "cell_type": "markdown",
   "metadata": {
    "slideshow": {
     "slide_type": "subslide"
    }
   },
   "source": [
    "- To sort, use `df.sort_values(by=column_names)`.\n",
    "    - With `df.sort_index()`, you car sort data using the index.\n",
    "- Sort `mycars` by \"cars_per_cap.\"\n",
    "- Sort `mycars` by \"drives_right\" and \"country.\"\n",
    "- Sort `mycars` by the index."
   ]
  },
  {
   "cell_type": "code",
   "execution_count": 7,
   "metadata": {
    "slideshow": {
     "slide_type": "subslide"
    }
   },
   "outputs": [
    {
     "data": {
      "text/html": [
       "<div>\n",
       "<style scoped>\n",
       "    .dataframe tbody tr th:only-of-type {\n",
       "        vertical-align: middle;\n",
       "    }\n",
       "\n",
       "    .dataframe tbody tr th {\n",
       "        vertical-align: top;\n",
       "    }\n",
       "\n",
       "    .dataframe thead th {\n",
       "        text-align: right;\n",
       "    }\n",
       "</style>\n",
       "<table border=\"1\" class=\"dataframe\">\n",
       "  <thead>\n",
       "    <tr style=\"text-align: right;\">\n",
       "      <th></th>\n",
       "      <th>cars_per_cap</th>\n",
       "      <th>country</th>\n",
       "      <th>drives_right</th>\n",
       "    </tr>\n",
       "    <tr>\n",
       "      <th>id</th>\n",
       "      <th></th>\n",
       "      <th></th>\n",
       "      <th></th>\n",
       "    </tr>\n",
       "  </thead>\n",
       "  <tbody>\n",
       "    <tr>\n",
       "      <th>AUS</th>\n",
       "      <td>731</td>\n",
       "      <td>Australia</td>\n",
       "      <td>False</td>\n",
       "    </tr>\n",
       "    <tr>\n",
       "      <th>EG</th>\n",
       "      <td>45</td>\n",
       "      <td>Egypt</td>\n",
       "      <td>True</td>\n",
       "    </tr>\n",
       "    <tr>\n",
       "      <th>IN</th>\n",
       "      <td>18</td>\n",
       "      <td>India</td>\n",
       "      <td>False</td>\n",
       "    </tr>\n",
       "    <tr>\n",
       "      <th>JAP</th>\n",
       "      <td>588</td>\n",
       "      <td>Japan</td>\n",
       "      <td>False</td>\n",
       "    </tr>\n",
       "    <tr>\n",
       "      <th>MOR</th>\n",
       "      <td>70</td>\n",
       "      <td>Morocco</td>\n",
       "      <td>True</td>\n",
       "    </tr>\n",
       "    <tr>\n",
       "      <th>RU</th>\n",
       "      <td>200</td>\n",
       "      <td>Russia</td>\n",
       "      <td>True</td>\n",
       "    </tr>\n",
       "    <tr>\n",
       "      <th>US</th>\n",
       "      <td>809</td>\n",
       "      <td>United States</td>\n",
       "      <td>True</td>\n",
       "    </tr>\n",
       "  </tbody>\n",
       "</table>\n",
       "</div>"
      ],
      "text/plain": [
       "     cars_per_cap        country  drives_right\n",
       "id                                            \n",
       "AUS           731      Australia         False\n",
       "EG             45          Egypt          True\n",
       "IN             18          India         False\n",
       "JAP           588          Japan         False\n",
       "MOR            70        Morocco          True\n",
       "RU            200         Russia          True\n",
       "US            809  United States          True"
      ]
     },
     "execution_count": 7,
     "metadata": {},
     "output_type": "execute_result"
    }
   ],
   "source": [
    "mycars = pd.read_table('cars.csv', sep=',', index_col = 0)\n",
    "mycars.sort_values(by = 'country')"
   ]
  },
  {
   "cell_type": "code",
   "execution_count": 65,
   "metadata": {
    "slideshow": {
     "slide_type": "-"
    }
   },
   "outputs": [],
   "source": [
    "mycars = pd.read_table('cars.csv', sep=',', index_col = 0)"
   ]
  },
  {
   "cell_type": "markdown",
   "metadata": {
    "slideshow": {
     "slide_type": "subslide"
    }
   },
   "source": [
    "- To transpose data, use `df.T`."
   ]
  },
  {
   "cell_type": "code",
   "execution_count": 66,
   "metadata": {
    "slideshow": {
     "slide_type": "-"
    }
   },
   "outputs": [
    {
     "name": "stdout",
     "output_type": "stream",
     "text": [
      "     cars_per_cap        country  drives_right\n",
      "id                                            \n",
      "US            809  United States          True\n",
      "AUS           731      Australia         False\n",
      "JAP           588          Japan         False\n",
      "IN             18          India         False\n",
      "RU            200         Russia          True\n",
      "MOR            70        Morocco          True\n",
      "EG             45          Egypt          True\n",
      "id                       US        AUS    JAP     IN      RU      MOR     EG\n",
      "cars_per_cap            809        731    588     18     200       70     45\n",
      "country       United States  Australia  Japan  India  Russia  Morocco  Egypt\n",
      "drives_right           True      False  False  False    True     True   True\n"
     ]
    }
   ],
   "source": [
    "mycars = pd.read_table('cars.csv', sep=',', index_col = 0)\n",
    "print(mycars)\n",
    "print(mycars.T)"
   ]
  },
  {
   "cell_type": "markdown",
   "metadata": {
    "slideshow": {
     "slide_type": "subslide"
    }
   },
   "source": [
    "- To reshape, use `df.pivot()`.\n",
    "<!--  - Alternatively, use `df.stack()` and `df.unstack()`. -->"
   ]
  },
  {
   "cell_type": "code",
   "execution_count": 4,
   "metadata": {},
   "outputs": [
    {
     "name": "stdout",
     "output_type": "stream",
     "text": [
      "  id  time  varA   varB\n",
      "0  a     1   0.5   True\n",
      "1  a     2   0.2  False\n",
      "2  b     1   0.4  False\n",
      "3  b     2   0.1   True\n",
      "     varA        varB       \n",
      "time    1    2      1      2\n",
      "id                          \n",
      "a     0.5  0.2   True  False\n",
      "b     0.4  0.1  False   True\n"
     ]
    }
   ],
   "source": [
    "col1 = [\"a\",\"a\",\"b\",\"b\"]\n",
    "col2 = [1,2,1,2]\n",
    "col3 = [0.5,0.2,0.4,0.1]\n",
    "col4 = [True,False,False,True]\n",
    "mydf = pd.DataFrame({'id':col1,'time':col2,'varA':col3,'varB':col4}) # make a dataframe\n",
    "mydf.set_index(['id','time']) # set the index\n",
    "print(mydf)\n",
    "print(mydf.pivot(index='id', columns='time')) # reshape mydf from long to wide"
   ]
  },
  {
   "cell_type": "markdown",
   "metadata": {
    "slideshow": {
     "slide_type": "subslide"
    }
   },
   "source": [
    "- Appendix: Use `pd.melt()` to show data in an alternative form."
   ]
  },
  {
   "cell_type": "code",
   "execution_count": 10,
   "metadata": {
    "slideshow": {
     "slide_type": "-"
    }
   },
   "outputs": [
    {
     "name": "stdout",
     "output_type": "stream",
     "text": [
      "  id  time  varA   varB\n",
      "0  a     1   0.5   True\n",
      "1  a     2   0.2  False\n",
      "2  b     1   0.4  False\n",
      "3  b     2   0.1   True\n",
      "  id  time variable  value\n",
      "0  a     1     varA    0.5\n",
      "1  a     2     varA    0.2\n",
      "2  b     1     varA    0.4\n",
      "3  b     2     varA    0.1\n",
      "4  a     1     varB   True\n",
      "5  a     2     varB  False\n",
      "6  b     1     varB  False\n",
      "7  b     2     varB   True\n"
     ]
    }
   ],
   "source": [
    "col1 = [\"a\",\"a\",\"b\",\"b\"]\n",
    "col2 = [1,2,1,2]\n",
    "col3 = [0.5,0.2,0.4,0.1]\n",
    "col4 = [True,False,False,True]\n",
    "mydf = pd.DataFrame({'id':col1,'time':col2,'varA':col3,'varB':col4}) \n",
    "mydf.set_index(['id','time'])\n",
    "print(mydf)\n",
    "print(mydf.melt(id_vars=['id','time']))"
   ]
  },
  {
   "cell_type": "markdown",
   "metadata": {
    "slideshow": {
     "slide_type": "subslide"
    }
   },
   "source": [
    "- To rename column names, use `df.rename(columns = {old_name: new_name})`.\n",
    "    - To rename multiple column names, use\n",
    "```python\n",
    "new_cols = ['new1','new2']\n",
    "df.rename(columns=dict(zip(df.columns[[loc1,loc2]], new_cols)))\n",
    "```\n",
    "- To rename the index, use `df.rename(index = {old_name: new_name})`.\n",
    "- Rename the \"country\" column to \"ctry.\"\n",
    "- Rename the \"US\" index to \"USA.\""
   ]
  },
  {
   "cell_type": "code",
   "execution_count": 108,
   "metadata": {},
   "outputs": [
    {
     "name": "stdout",
     "output_type": "stream",
     "text": [
      "     cars_per_cap           ctry  drives_right\n",
      "id                                            \n",
      "US            809  United States          True\n",
      "AUS           731      Australia         False\n",
      "JAP           588          Japan         False\n",
      "IN             18          India         False\n",
      "RU            200         Russia          True\n",
      "MOR            70        Morocco          True\n",
      "EG             45          Egypt          True\n"
     ]
    }
   ],
   "source": [
    "mycars = pd.read_table('cars.csv', sep=',', index_col = 0)\n",
    "#print(mycars)\n",
    "mycars2 = mycars.rename(columns = {'country': 'ctry'})\n",
    "print(mycars2)\n",
    "#print(mycars.rename(index = {'US': 'USA'}))"
   ]
  },
  {
   "cell_type": "markdown",
   "metadata": {
    "slideshow": {
     "slide_type": "subslide"
    }
   },
   "source": [
    "- To replace values, use `df.replace(old,new)`.\n",
    "    - To replace multiple values, use `df.replace({old1:new1,old2:new2})`\n",
    "    - To replace specific letters in a string, use `str.replace()`."
   ]
  },
  {
   "cell_type": "code",
   "execution_count": 120,
   "metadata": {
    "slideshow": {
     "slide_type": "-"
    }
   },
   "outputs": [
    {
     "data": {
      "text/html": [
       "<div>\n",
       "<style scoped>\n",
       "    .dataframe tbody tr th:only-of-type {\n",
       "        vertical-align: middle;\n",
       "    }\n",
       "\n",
       "    .dataframe tbody tr th {\n",
       "        vertical-align: top;\n",
       "    }\n",
       "\n",
       "    .dataframe thead th {\n",
       "        text-align: right;\n",
       "    }\n",
       "</style>\n",
       "<table border=\"1\" class=\"dataframe\">\n",
       "  <thead>\n",
       "    <tr style=\"text-align: right;\">\n",
       "      <th></th>\n",
       "      <th>cars_per_cap</th>\n",
       "      <th>country</th>\n",
       "      <th>drives_right</th>\n",
       "    </tr>\n",
       "    <tr>\n",
       "      <th>id</th>\n",
       "      <th></th>\n",
       "      <th></th>\n",
       "      <th></th>\n",
       "    </tr>\n",
       "  </thead>\n",
       "  <tbody>\n",
       "    <tr>\n",
       "      <th>US</th>\n",
       "      <td>809</td>\n",
       "      <td>United States</td>\n",
       "      <td>True</td>\n",
       "    </tr>\n",
       "    <tr>\n",
       "      <th>AUS</th>\n",
       "      <td>731</td>\n",
       "      <td>Australia</td>\n",
       "      <td>False</td>\n",
       "    </tr>\n",
       "    <tr>\n",
       "      <th>JAP</th>\n",
       "      <td>588</td>\n",
       "      <td>Japan</td>\n",
       "      <td>False</td>\n",
       "    </tr>\n",
       "    <tr>\n",
       "      <th>IN</th>\n",
       "      <td>18</td>\n",
       "      <td>India</td>\n",
       "      <td>False</td>\n",
       "    </tr>\n",
       "    <tr>\n",
       "      <th>RU</th>\n",
       "      <td>200</td>\n",
       "      <td>Russia</td>\n",
       "      <td>True</td>\n",
       "    </tr>\n",
       "    <tr>\n",
       "      <th>MOR</th>\n",
       "      <td>70</td>\n",
       "      <td>Morocco</td>\n",
       "      <td>True</td>\n",
       "    </tr>\n",
       "    <tr>\n",
       "      <th>EG</th>\n",
       "      <td>45</td>\n",
       "      <td>Egypt</td>\n",
       "      <td>True</td>\n",
       "    </tr>\n",
       "  </tbody>\n",
       "</table>\n",
       "</div>"
      ],
      "text/plain": [
       "     cars_per_cap        country  drives_right\n",
       "id                                            \n",
       "US            809  United States          True\n",
       "AUS           731      Australia         False\n",
       "JAP           588          Japan         False\n",
       "IN             18          India         False\n",
       "RU            200         Russia          True\n",
       "MOR            70        Morocco          True\n",
       "EG             45          Egypt          True"
      ]
     },
     "execution_count": 120,
     "metadata": {},
     "output_type": "execute_result"
    }
   ],
   "source": [
    "mycars = pd.read_table('cars.csv', sep=',', index_col = 0)\n",
    "#print(mycars)\n",
    "mycars.replace({'country':'pays', 'cars_per_cap':'GDP'})\n",
    "#mycars['country'] = mycars['country'].replace({\"United States\":\"U.S.A\"}) # replace United States to U.S.A.\n",
    "#print(mycars.replace({'United States':'U.S.A.'}, inplace = True))\n",
    "\n",
    "#mycars['country'] = mycars['country'].str.replace(\"ia\",\"IA\") # replace ia to IA.\n",
    "#print(mycars)"
   ]
  },
  {
   "cell_type": "markdown",
   "metadata": {
    "slideshow": {
     "slide_type": "subslide"
    }
   },
   "source": [
    "### - Computation\n",
    "- Calculation is based on the index and column names."
   ]
  },
  {
   "cell_type": "code",
   "execution_count": null,
   "metadata": {
    "slideshow": {
     "slide_type": "-"
    }
   },
   "outputs": [],
   "source": [
    "mycars = pd.read_table('cars.csv', sep=',', index_col = 0)\n",
    "mycars['one'] = 1 # add a new column\n",
    "print(mycars)\n",
    "# take a subset\n",
    "mycars_new = mycars.drop('US') # drop 'US' row\n",
    "mycars_new = mycars_new.drop('one',axis=1) # drop 'one' column\n",
    "# add mycars_new to mycars\n",
    "sum_mycars = mycars + mycars_new \n",
    "print(sum_mycars)"
   ]
  },
  {
   "cell_type": "markdown",
   "metadata": {
    "slideshow": {
     "slide_type": "subslide"
    }
   },
   "source": [
    "- To take column/row sums, use `df.sum()`.\n",
    "- To take column/row means, use`df.mean()`."
   ]
  },
  {
   "cell_type": "code",
   "execution_count": null,
   "metadata": {
    "slideshow": {
     "slide_type": "-"
    }
   },
   "outputs": [],
   "source": [
    "mydf = pd.DataFrame(np.arange(9.).reshape((3, 3)), columns=list('abc'), index=['x','y','z']) # make a dataframe\n",
    "mydf = mydf.replace(6, np.nan) # replace 6 with NaN\n",
    "print(mydf)\n",
    "print(mydf.sum()) # sum by column\n",
    "print(mydf.sum(axis=1)) # sum by row"
   ]
  },
  {
   "cell_type": "markdown",
   "metadata": {
    "slideshow": {
     "slide_type": "subslide"
    }
   },
   "source": [
    "- Missing values are ignored in calculation."
   ]
  },
  {
   "cell_type": "code",
   "execution_count": 6,
   "metadata": {
    "slideshow": {
     "slide_type": "-"
    }
   },
   "outputs": [
    {
     "name": "stdout",
     "output_type": "stream",
     "text": [
      "     cars_per_cap        country  drives_right\n",
      "id                                            \n",
      "US          809.0  United States          True\n",
      "AUS         731.0      Australia         False\n",
      "JAP         588.0          Japan         False\n",
      "IN           18.0          India         False\n",
      "RU          200.0         Russia          True\n",
      "MOR          70.0        Morocco          True\n",
      "EG            NaN          Egypt          True\n",
      "     cars_per_cap\n",
      "id               \n",
      "US         1618.0\n",
      "AUS        1462.0\n",
      "JAP        1176.0\n",
      "IN           36.0\n",
      "RU          400.0\n",
      "MOR         140.0\n",
      "EG            NaN\n"
     ]
    }
   ],
   "source": [
    "mycars = pd.read_table('cars.csv', sep=',', index_col = 0)\n",
    "mycars_nan = mycars.replace(45, np.nan) # replace Egypt's cars/cap (45) with NaN\n",
    "print(mycars_nan)\n",
    "sum_cpc = mycars.loc[:,['cars_per_cap']] + mycars_nan.loc[:,['cars_per_cap']] # sum cars/cap\n",
    "print(sum_cpc)"
   ]
  },
  {
   "cell_type": "markdown",
   "metadata": {
    "slideshow": {
     "slide_type": "subslide"
    }
   },
   "source": [
    "- To get a sumary table, use `df.describe()`."
   ]
  },
  {
   "cell_type": "code",
   "execution_count": 7,
   "metadata": {
    "slideshow": {
     "slide_type": "-"
    }
   },
   "outputs": [
    {
     "name": "stdout",
     "output_type": "stream",
     "text": [
      "       cars_per_cap\n",
      "count      7.000000\n",
      "mean     351.571429\n",
      "std      345.595552\n",
      "min       18.000000\n",
      "25%       57.500000\n",
      "50%      200.000000\n",
      "75%      659.500000\n",
      "max      809.000000\n"
     ]
    }
   ],
   "source": [
    "mycars = pd.read_table('cars.csv', sep=',', index_col = 0)\n",
    "print(mycars.describe())"
   ]
  },
  {
   "cell_type": "markdown",
   "metadata": {
    "slideshow": {
     "slide_type": "subslide"
    }
   },
   "source": [
    "### - Treat missing values\n",
    "- To check if data contain specific values, use `df.isin()`.\n",
    "    - To check if data contain NaN, use `df.isna()`.\n",
    "- It's useful to combine them with `.any()`.\n",
    "- Check whether the country column in `mycars` contains \"Japan.\"\n",
    "- Check whether the country column in `mycars` contains NaN."
   ]
  },
  {
   "cell_type": "code",
   "execution_count": 8,
   "metadata": {
    "slideshow": {
     "slide_type": "-"
    }
   },
   "outputs": [
    {
     "name": "stdout",
     "output_type": "stream",
     "text": [
      "False\n"
     ]
    }
   ],
   "source": [
    "mycars = pd.read_table('cars.csv', sep=',', index_col = 0)\n",
    "print (mycars['country'].isna().any())\n"
   ]
  },
  {
   "cell_type": "markdown",
   "metadata": {
    "slideshow": {
     "slide_type": "subslide"
    }
   },
   "source": [
    "- There is no single answer to deal with missing values.\n",
    "    - drop: `df.dropna()`\n",
    "    - replace: `df.fillna()`\n",
    "- Drop a row/column if at least one value is missing.\n",
    "    - To select a specific column, use `subset`."
   ]
  },
  {
   "cell_type": "code",
   "execution_count": 11,
   "metadata": {
    "slideshow": {
     "slide_type": "-"
    }
   },
   "outputs": [
    {
     "name": "stdout",
     "output_type": "stream",
     "text": [
      "   0    1    2\n",
      "0  3  4.0  5.0\n",
      "1  1  2.0  NaN\n",
      "2  3  NaN  NaN\n",
      "Drop rows containing NaN.\n",
      "   0    1    2\n",
      "0  3  4.0  5.0\n",
      "Drop rows if column 1 has NaN.\n",
      "   0    1    2\n",
      "0  3  4.0  5.0\n",
      "1  1  2.0  NaN\n",
      "Drop columns containing NaN.\n",
      "   0\n",
      "0  3\n",
      "1  1\n",
      "2  3\n"
     ]
    }
   ],
   "source": [
    "mydata = pd.DataFrame([[3,4,5],[1,2,np.nan],[3,np.nan,np.nan]])\n",
    "print(mydata)\n",
    "print(\"Drop rows containing NaN.\")\n",
    "mydata1 = mydata.dropna() \n",
    "print(mydata1)\n",
    "print(\"Drop rows if column 1 has NaN.\")\n",
    "mydata2 = mydata.dropna(subset=[1]) \n",
    "print(mydata2)\n",
    "print(\"Drop columns containing NaN.\")\n",
    "mydata3 = mydata.dropna(axis=1) \n",
    "print(mydata3)"
   ]
  },
  {
   "cell_type": "markdown",
   "metadata": {
    "slideshow": {
     "slide_type": "subslide"
    }
   },
   "source": [
    "- Drop a row/column if all values are missing."
   ]
  },
  {
   "cell_type": "code",
   "execution_count": 12,
   "metadata": {
    "slideshow": {
     "slide_type": "-"
    }
   },
   "outputs": [
    {
     "name": "stdout",
     "output_type": "stream",
     "text": [
      "     0    1   2\n",
      "0  3.0  4.0 NaN\n",
      "1  NaN  2.0 NaN\n",
      "2  NaN  NaN NaN\n",
      "     0    1   2\n",
      "0  3.0  4.0 NaN\n",
      "1  NaN  2.0 NaN\n"
     ]
    }
   ],
   "source": [
    "mydata1 = pd.DataFrame([[3,4,np.nan],[np.nan,2,np.nan],[np.nan,np.nan,np.nan]])\n",
    "print(mydata1)\n",
    "mydata2 = mydata1.dropna(how='all')\n",
    "print(mydata2)"
   ]
  },
  {
   "cell_type": "markdown",
   "metadata": {
    "slideshow": {
     "slide_type": "subslide"
    }
   },
   "source": [
    "- Replace NaN with another value."
   ]
  },
  {
   "cell_type": "code",
   "execution_count": null,
   "metadata": {
    "slideshow": {
     "slide_type": "-"
    }
   },
   "outputs": [],
   "source": [
    "mydata = pd.DataFrame([[3,4,np.nan],[np.nan,2,np.nan],[np.nan,np.nan,np.nan]])\n",
    "print(mydata)\n",
    "mydata_fillna = mydata.fillna(0) # replace with zero\n",
    "print(mydata_fillna)"
   ]
  },
  {
   "cell_type": "markdown",
   "metadata": {
    "slideshow": {
     "slide_type": "subslide"
    }
   },
   "source": [
    "- To check if data contain np.inf and - np.inf, use `np.isinf()`."
   ]
  },
  {
   "cell_type": "code",
   "execution_count": null,
   "metadata": {
    "slideshow": {
     "slide_type": "-"
    }
   },
   "outputs": [],
   "source": [
    "df_inf = pd.DataFrame([1, 2, np.inf,-np.inf])\n",
    "print(df_inf)\n",
    "print(np.isinf(df_inf))\n",
    "print(np.isinf(df_inf).any())"
   ]
  },
  {
   "cell_type": "markdown",
   "metadata": {
    "slideshow": {
     "slide_type": "subslide"
    }
   },
   "source": [
    "### - Merge\n",
    "- To merge datasets, use `merge()`."
   ]
  },
  {
   "cell_type": "code",
   "execution_count": 9,
   "metadata": {
    "slideshow": {
     "slide_type": "-"
    }
   },
   "outputs": [
    {
     "name": "stdout",
     "output_type": "stream",
     "text": [
      "   data1 key\n",
      "0      0   a\n",
      "1      1   b\n",
      "2      2   c\n",
      "3      3   d\n",
      "   data2 key\n",
      "0      0   a\n",
      "1      1   b\n",
      "2      2   e\n",
      "   data1 key  data2\n",
      "0      0   a      0\n",
      "1      1   b      1\n",
      "   data1 key  data2\n",
      "0    0.0   a    0.0\n",
      "1    1.0   b    1.0\n",
      "2    2.0   c    NaN\n",
      "3    3.0   d    NaN\n",
      "4    NaN   e    2.0\n",
      "   data1 key  data2\n",
      "0    0.0   a      0\n",
      "1    1.0   b      1\n",
      "2    NaN   e      2\n",
      "   data1 key  data2\n",
      "0      0   a    0.0\n",
      "1      1   b    1.0\n",
      "2      2   c    NaN\n",
      "3      3   d    NaN\n"
     ]
    }
   ],
   "source": [
    "mydata1 = pd.DataFrame({'key': [\"a\",\"b\",\"c\",\"d\"], 'data1': range(4)})\n",
    "mydata2 = pd.DataFrame({'key': [\"a\",\"b\",\"e\"], 'data2': range(3)})\n",
    "print(mydata1)\n",
    "print(mydata2)\n",
    "inner = pd.merge(mydata1, mydata2, on='key') # inner join (intersection)\n",
    "outer = pd.merge(mydata1, mydata2, on='key', how='outer') # outer join (union)\n",
    "right = pd.merge(mydata1, mydata2, on='key', how='right') # right join (keep right data)\n",
    "left  = pd.merge(mydata1, mydata2, on='key', how='left') # left join (keep left data)\n",
    "print(inner)\n",
    "print(outer)\n",
    "print(right)\n",
    "print(left)"
   ]
  },
  {
   "cell_type": "markdown",
   "metadata": {
    "slideshow": {
     "slide_type": "subslide"
    }
   },
   "source": [
    "- You can merge even if key names are different."
   ]
  },
  {
   "cell_type": "code",
   "execution_count": 121,
   "metadata": {
    "slideshow": {
     "slide_type": "-"
    }
   },
   "outputs": [
    {
     "name": "stdout",
     "output_type": "stream",
     "text": [
      "   data1 key1\n",
      "0      0    a\n",
      "1      1    b\n",
      "2      2    c\n",
      "3      3    d\n",
      "   data2 key2\n",
      "0      0    a\n",
      "1      1    b\n",
      "2      2    e\n",
      "   data1 key1  data2 key2\n",
      "0    0.0    a    0.0    a\n",
      "1    1.0    b    1.0    b\n",
      "2    2.0    c    NaN  NaN\n",
      "3    3.0    d    NaN  NaN\n",
      "4    NaN  NaN    2.0    e\n"
     ]
    }
   ],
   "source": [
    "mydata1 = pd.DataFrame({'key1': [\"a\",\"b\",\"c\",\"d\"], 'data1': range(4)})\n",
    "mydata2 = pd.DataFrame({'key2': [\"a\",\"b\",\"e\"], 'data2': range(3)})\n",
    "print(mydata1)\n",
    "print(mydata2)\n",
    "outer = pd.merge(mydata1, mydata2, left_on='key1', right_on='key2', how='outer')  \n",
    "print(outer)"
   ]
  },
  {
   "cell_type": "markdown",
   "metadata": {
    "slideshow": {
     "slide_type": "subslide"
    }
   },
   "source": [
    "- You can use more than one key."
   ]
  },
  {
   "cell_type": "code",
   "execution_count": 122,
   "metadata": {
    "slideshow": {
     "slide_type": "-"
    }
   },
   "outputs": [
    {
     "name": "stdout",
     "output_type": "stream",
     "text": [
      "   data1 id  t\n",
      "0      0  a  1\n",
      "1      1  a  2\n",
      "2      2  b  1\n",
      "3      3  b  2\n",
      "   data2 id  t\n",
      "0      0  a  1\n",
      "1      1  a  2\n",
      "   data1 id  t  data2\n",
      "0      0  a  1    0.0\n",
      "1      1  a  2    1.0\n",
      "2      2  b  1    NaN\n",
      "3      3  b  2    NaN\n"
     ]
    }
   ],
   "source": [
    "mydata1 = pd.DataFrame({'id': [\"a\",\"a\",\"b\",\"b\"], 't': [\"1\",\"2\",\"1\",\"2\"], 'data1': range(4)})\n",
    "mydata2 = pd.DataFrame({'id': [\"a\",\"a\"], 't': [\"1\",\"2\"], 'data2': range(2)})\n",
    "print(mydata1)\n",
    "print(mydata2)\n",
    "outer = pd.merge(mydata1, mydata2, on=['id', 't'], how='outer')  \n",
    "print(outer)"
   ]
  },
  {
   "cell_type": "markdown",
   "metadata": {
    "slideshow": {
     "slide_type": "subslide"
    }
   },
   "source": [
    "- What happens if both datasets have the same column name but the contents are different?"
   ]
  },
  {
   "cell_type": "code",
   "execution_count": null,
   "metadata": {
    "slideshow": {
     "slide_type": "-"
    }
   },
   "outputs": [],
   "source": [
    "mydata1 = pd.DataFrame({'key': [\"a\",\"b\",\"c\",\"d\"], 'data1': range(4)})\n",
    "mydata2 = pd.DataFrame({'key': [\"a\",\"b\",\"e\"], 'data2': range(3)})\n",
    "print(mydata1)\n",
    "print(mydata2)\n",
    "outer = pd.merge(mydata1, mydata2, on='key', how='outer')\n",
    "print(outer)\n",
    "outer = pd.merge(mydata1, mydata2, on='key', how='outer', suffixes=('_mydata1','_mydata2')) # rename duplicated column names\n",
    "print(outer)"
   ]
  },
  {
   "cell_type": "markdown",
   "metadata": {
    "slideshow": {
     "slide_type": "subslide"
    }
   },
   "source": [
    "- You can merge using indices."
   ]
  },
  {
   "cell_type": "code",
   "execution_count": null,
   "metadata": {},
   "outputs": [],
   "source": [
    "mydata1 = pd.DataFrame({'key': [\"a\",\"b\",\"c\",\"d\"], 'data1': range(4)})\n",
    "mydata2 = pd.DataFrame({'data2': range(3)}, index=['a','b','e'])\n",
    "print(mydata1)\n",
    "print(mydata2)\n",
    "outer = pd.merge(mydata1, mydata2, left_on='key', right_index=True, how='outer') # use 'key' column for the left data and the index for the right data \n",
    "print(outer)"
   ]
  }
 ],
 "metadata": {
  "celltoolbar": "Slideshow",
  "kernelspec": {
   "display_name": "Python 3",
   "language": "python",
   "name": "python3"
  },
  "language_info": {
   "codemirror_mode": {
    "name": "ipython",
    "version": 3
   },
   "file_extension": ".py",
   "mimetype": "text/x-python",
   "name": "python",
   "nbconvert_exporter": "python",
   "pygments_lexer": "ipython3",
   "version": "3.6.4"
  }
 },
 "nbformat": 4,
 "nbformat_minor": 2
}
